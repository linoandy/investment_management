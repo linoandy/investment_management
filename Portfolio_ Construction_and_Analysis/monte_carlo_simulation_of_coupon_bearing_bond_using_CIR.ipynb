{
 "cells": [
  {
   "cell_type": "code",
   "execution_count": 1,
   "metadata": {},
   "outputs": [],
   "source": [
    "import numpy as np\n",
    "import pandas as pd\n",
    "import edhec_risk_kit as erk\n",
    "%load_ext autoreload\n",
    "%autoreload 2\n",
    "%matplotlib inline"
   ]
  },
  {
   "cell_type": "code",
   "execution_count": 2,
   "metadata": {},
   "outputs": [
    {
     "data": {
      "text/plain": [
       "0    109.275393\n",
       "dtype: float64"
      ]
     },
     "execution_count": 2,
     "metadata": {},
     "output_type": "execute_result"
    }
   ],
   "source": [
    "erk.bond_price(5, 100, 0.05, 12, 0.03)"
   ]
  },
  {
   "cell_type": "code",
   "execution_count": 3,
   "metadata": {},
   "outputs": [],
   "source": [
    "rates, zc_prices = erk.cir(10, 500, b=0.03, r_0=0.03)"
   ]
  },
  {
   "cell_type": "code",
   "execution_count": 7,
   "metadata": {},
   "outputs": [
    {
     "data": {
      "text/plain": [
       "1    109.275393\n",
       "2    109.275393\n",
       "3    109.275393\n",
       "dtype: float64"
      ]
     },
     "execution_count": 7,
     "metadata": {},
     "output_type": "execute_result"
    }
   ],
   "source": [
    "erk.bond_price(5, 100, 0.05, 12, rates.iloc[0][[1,2,3]])"
   ]
  },
  {
   "cell_type": "code",
   "execution_count": 8,
   "metadata": {},
   "outputs": [
    {
     "data": {
      "text/plain": [
       "1    110.995648\n",
       "2    108.594418\n",
       "3    107.726849\n",
       "dtype: float64"
      ]
     },
     "execution_count": 8,
     "metadata": {},
     "output_type": "execute_result"
    }
   ],
   "source": [
    "erk.bond_price(5, 100, 0.05, 12, rates.iloc[1][[1,2,3]])"
   ]
  },
  {
   "cell_type": "code",
   "execution_count": 9,
   "metadata": {},
   "outputs": [
    {
     "data": {
      "text/html": [
       "<div>\n",
       "<style scoped>\n",
       "    .dataframe tbody tr th:only-of-type {\n",
       "        vertical-align: middle;\n",
       "    }\n",
       "\n",
       "    .dataframe tbody tr th {\n",
       "        vertical-align: top;\n",
       "    }\n",
       "\n",
       "    .dataframe thead th {\n",
       "        text-align: right;\n",
       "    }\n",
       "</style>\n",
       "<table border=\"1\" class=\"dataframe\">\n",
       "  <thead>\n",
       "    <tr style=\"text-align: right;\">\n",
       "      <th></th>\n",
       "      <th>1</th>\n",
       "      <th>2</th>\n",
       "      <th>3</th>\n",
       "    </tr>\n",
       "  </thead>\n",
       "  <tbody>\n",
       "    <tr>\n",
       "      <th>0</th>\n",
       "      <td>0.030000</td>\n",
       "      <td>0.030000</td>\n",
       "      <td>0.030000</td>\n",
       "    </tr>\n",
       "    <tr>\n",
       "      <th>1</th>\n",
       "      <td>0.026496</td>\n",
       "      <td>0.031404</td>\n",
       "      <td>0.033207</td>\n",
       "    </tr>\n",
       "    <tr>\n",
       "      <th>2</th>\n",
       "      <td>0.024630</td>\n",
       "      <td>0.031446</td>\n",
       "      <td>0.033515</td>\n",
       "    </tr>\n",
       "    <tr>\n",
       "      <th>3</th>\n",
       "      <td>0.024611</td>\n",
       "      <td>0.030923</td>\n",
       "      <td>0.035870</td>\n",
       "    </tr>\n",
       "    <tr>\n",
       "      <th>4</th>\n",
       "      <td>0.023757</td>\n",
       "      <td>0.037439</td>\n",
       "      <td>0.032410</td>\n",
       "    </tr>\n",
       "    <tr>\n",
       "      <th>...</th>\n",
       "      <td>...</td>\n",
       "      <td>...</td>\n",
       "      <td>...</td>\n",
       "    </tr>\n",
       "    <tr>\n",
       "      <th>116</th>\n",
       "      <td>0.010742</td>\n",
       "      <td>0.034407</td>\n",
       "      <td>0.022976</td>\n",
       "    </tr>\n",
       "    <tr>\n",
       "      <th>117</th>\n",
       "      <td>0.013290</td>\n",
       "      <td>0.033768</td>\n",
       "      <td>0.024290</td>\n",
       "    </tr>\n",
       "    <tr>\n",
       "      <th>118</th>\n",
       "      <td>0.010753</td>\n",
       "      <td>0.033030</td>\n",
       "      <td>0.026860</td>\n",
       "    </tr>\n",
       "    <tr>\n",
       "      <th>119</th>\n",
       "      <td>0.011251</td>\n",
       "      <td>0.027146</td>\n",
       "      <td>0.026642</td>\n",
       "    </tr>\n",
       "    <tr>\n",
       "      <th>120</th>\n",
       "      <td>0.010523</td>\n",
       "      <td>0.021506</td>\n",
       "      <td>0.028575</td>\n",
       "    </tr>\n",
       "  </tbody>\n",
       "</table>\n",
       "<p>121 rows × 3 columns</p>\n",
       "</div>"
      ],
      "text/plain": [
       "            1         2         3\n",
       "0    0.030000  0.030000  0.030000\n",
       "1    0.026496  0.031404  0.033207\n",
       "2    0.024630  0.031446  0.033515\n",
       "3    0.024611  0.030923  0.035870\n",
       "4    0.023757  0.037439  0.032410\n",
       "..        ...       ...       ...\n",
       "116  0.010742  0.034407  0.022976\n",
       "117  0.013290  0.033768  0.024290\n",
       "118  0.010753  0.033030  0.026860\n",
       "119  0.011251  0.027146  0.026642\n",
       "120  0.010523  0.021506  0.028575\n",
       "\n",
       "[121 rows x 3 columns]"
      ]
     },
     "execution_count": 9,
     "metadata": {},
     "output_type": "execute_result"
    }
   ],
   "source": [
    "rates[[1,2,3]]"
   ]
  },
  {
   "cell_type": "code",
   "execution_count": 12,
   "metadata": {},
   "outputs": [
    {
     "data": {
      "text/plain": [
       "<matplotlib.axes._subplots.AxesSubplot at 0x7f96846114c0>"
      ]
     },
     "execution_count": 12,
     "metadata": {},
     "output_type": "execute_result"
    },
    {
     "data": {
      "image/png": "[encoded data removed]",
      "text/plain": [
       "<Figure size 864x432 with 1 Axes>"
      ]
     },
     "metadata": {
      "needs_background": "light"
     },
     "output_type": "display_data"
    }
   ],
   "source": [
    "erk.bond_price(10, 100, 0.05, 12, rates[[1,2,3,4,5]]).plot(figsize=(12,6))"
   ]
  },
  {
   "cell_type": "code",
   "execution_count": 13,
   "metadata": {},
   "outputs": [
    {
     "data": {
      "text/html": [
       "<div>\n",
       "<style scoped>\n",
       "    .dataframe tbody tr th:only-of-type {\n",
       "        vertical-align: middle;\n",
       "    }\n",
       "\n",
       "    .dataframe tbody tr th {\n",
       "        vertical-align: top;\n",
       "    }\n",
       "\n",
       "    .dataframe thead th {\n",
       "        text-align: right;\n",
       "    }\n",
       "</style>\n",
       "<table border=\"1\" class=\"dataframe\">\n",
       "  <thead>\n",
       "    <tr style=\"text-align: right;\">\n",
       "      <th></th>\n",
       "      <th>1</th>\n",
       "      <th>2</th>\n",
       "      <th>3</th>\n",
       "      <th>4</th>\n",
       "      <th>5</th>\n",
       "    </tr>\n",
       "  </thead>\n",
       "  <tbody>\n",
       "    <tr>\n",
       "      <th>0</th>\n",
       "      <td>117.26</td>\n",
       "      <td>117.26</td>\n",
       "      <td>117.26</td>\n",
       "      <td>117.26</td>\n",
       "      <td>117.26</td>\n",
       "    </tr>\n",
       "    <tr>\n",
       "      <th>1</th>\n",
       "      <td>120.478</td>\n",
       "      <td>115.828</td>\n",
       "      <td>114.173</td>\n",
       "      <td>117.429</td>\n",
       "      <td>115.007</td>\n",
       "    </tr>\n",
       "    <tr>\n",
       "      <th>2</th>\n",
       "      <td>122.136</td>\n",
       "      <td>115.676</td>\n",
       "      <td>113.794</td>\n",
       "      <td>120.588</td>\n",
       "      <td>114.089</td>\n",
       "    </tr>\n",
       "    <tr>\n",
       "      <th>3</th>\n",
       "      <td>121.988</td>\n",
       "      <td>116.04</td>\n",
       "      <td>111.611</td>\n",
       "      <td>117.784</td>\n",
       "      <td>115.912</td>\n",
       "    </tr>\n",
       "    <tr>\n",
       "      <th>4</th>\n",
       "      <td>122.647</td>\n",
       "      <td>110.174</td>\n",
       "      <td>114.581</td>\n",
       "      <td>119.037</td>\n",
       "      <td>114.145</td>\n",
       "    </tr>\n",
       "    <tr>\n",
       "      <th>...</th>\n",
       "      <td>...</td>\n",
       "      <td>...</td>\n",
       "      <td>...</td>\n",
       "      <td>...</td>\n",
       "      <td>...</td>\n",
       "    </tr>\n",
       "    <tr>\n",
       "      <th>116</th>\n",
       "      <td>101.306</td>\n",
       "      <td>100.516</td>\n",
       "      <td>100.897</td>\n",
       "      <td>101.263</td>\n",
       "      <td>100.803</td>\n",
       "    </tr>\n",
       "    <tr>\n",
       "      <th>117</th>\n",
       "      <td>100.916</td>\n",
       "      <td>100.404</td>\n",
       "      <td>100.64</td>\n",
       "      <td>100.902</td>\n",
       "      <td>100.686</td>\n",
       "    </tr>\n",
       "    <tr>\n",
       "      <th>118</th>\n",
       "      <td>100.653</td>\n",
       "      <td>100.282</td>\n",
       "      <td>100.384</td>\n",
       "      <td>100.556</td>\n",
       "      <td>100.532</td>\n",
       "    </tr>\n",
       "    <tr>\n",
       "      <th>119</th>\n",
       "      <td>100.323</td>\n",
       "      <td>100.19</td>\n",
       "      <td>100.194</td>\n",
       "      <td>100.289</td>\n",
       "      <td>100.272</td>\n",
       "    </tr>\n",
       "    <tr>\n",
       "      <th>120</th>\n",
       "      <td>100.417</td>\n",
       "      <td>100.417</td>\n",
       "      <td>100.417</td>\n",
       "      <td>100.417</td>\n",
       "      <td>100.417</td>\n",
       "    </tr>\n",
       "  </tbody>\n",
       "</table>\n",
       "<p>121 rows × 5 columns</p>\n",
       "</div>"
      ],
      "text/plain": [
       "           1        2        3        4        5\n",
       "0     117.26   117.26   117.26   117.26   117.26\n",
       "1    120.478  115.828  114.173  117.429  115.007\n",
       "2    122.136  115.676  113.794  120.588  114.089\n",
       "3    121.988   116.04  111.611  117.784  115.912\n",
       "4    122.647  110.174  114.581  119.037  114.145\n",
       "..       ...      ...      ...      ...      ...\n",
       "116  101.306  100.516  100.897  101.263  100.803\n",
       "117  100.916  100.404   100.64  100.902  100.686\n",
       "118  100.653  100.282  100.384  100.556  100.532\n",
       "119  100.323   100.19  100.194  100.289  100.272\n",
       "120  100.417  100.417  100.417  100.417  100.417\n",
       "\n",
       "[121 rows x 5 columns]"
      ]
     },
     "execution_count": 13,
     "metadata": {},
     "output_type": "execute_result"
    }
   ],
   "source": [
    "prices = erk.bond_price(10, 100, 0.05, 12, rates[[1,2,3,4,5]])\n",
    "prices"
   ]
  },
  {
   "cell_type": "code",
   "execution_count": 14,
   "metadata": {},
   "outputs": [
    {
     "data": {
      "text/plain": [
       "1   -0.015387\n",
       "2   -0.015387\n",
       "3   -0.015387\n",
       "4   -0.015387\n",
       "5   -0.015387\n",
       "dtype: float64"
      ]
     },
     "execution_count": 14,
     "metadata": {},
     "output_type": "execute_result"
    }
   ],
   "source": [
    "br = prices.pct_change().dropna()\n",
    "erk.annualize_rets(br, 12)"
   ]
  },
  {
   "cell_type": "code",
   "execution_count": 16,
   "metadata": {},
   "outputs": [
    {
     "data": {
      "text/plain": [
       "1    0.028328\n",
       "2    0.032101\n",
       "3    0.029666\n",
       "4    0.029521\n",
       "dtype: float64"
      ]
     },
     "execution_count": 16,
     "metadata": {},
     "output_type": "execute_result"
    }
   ],
   "source": [
    "p = erk.bond_price(10, 100, 0.05, 12, rates[[1,2,3,4]])\n",
    "btr = erk.bond_total_return(p, 100, 0.05, 12)\n",
    "erk.annualize_rets(btr, 12)"
   ]
  },
  {
   "cell_type": "code",
   "execution_count": 18,
   "metadata": {},
   "outputs": [
    {
     "data": {
      "text/html": [
       "<div>\n",
       "<style scoped>\n",
       "    .dataframe tbody tr th:only-of-type {\n",
       "        vertical-align: middle;\n",
       "    }\n",
       "\n",
       "    .dataframe tbody tr th {\n",
       "        vertical-align: top;\n",
       "    }\n",
       "\n",
       "    .dataframe thead th {\n",
       "        text-align: right;\n",
       "    }\n",
       "</style>\n",
       "<table border=\"1\" class=\"dataframe\">\n",
       "  <thead>\n",
       "    <tr style=\"text-align: right;\">\n",
       "      <th></th>\n",
       "      <th>1</th>\n",
       "      <th>2</th>\n",
       "      <th>3</th>\n",
       "    </tr>\n",
       "  </thead>\n",
       "  <tbody>\n",
       "    <tr>\n",
       "      <th>116</th>\n",
       "      <td>101.306</td>\n",
       "      <td>100.516</td>\n",
       "      <td>100.897</td>\n",
       "    </tr>\n",
       "    <tr>\n",
       "      <th>117</th>\n",
       "      <td>100.916</td>\n",
       "      <td>100.404</td>\n",
       "      <td>100.64</td>\n",
       "    </tr>\n",
       "    <tr>\n",
       "      <th>118</th>\n",
       "      <td>100.653</td>\n",
       "      <td>100.282</td>\n",
       "      <td>100.384</td>\n",
       "    </tr>\n",
       "    <tr>\n",
       "      <th>119</th>\n",
       "      <td>100.323</td>\n",
       "      <td>100.19</td>\n",
       "      <td>100.194</td>\n",
       "    </tr>\n",
       "    <tr>\n",
       "      <th>120</th>\n",
       "      <td>100.417</td>\n",
       "      <td>100.417</td>\n",
       "      <td>100.417</td>\n",
       "    </tr>\n",
       "  </tbody>\n",
       "</table>\n",
       "</div>"
      ],
      "text/plain": [
       "           1        2        3\n",
       "116  101.306  100.516  100.897\n",
       "117  100.916  100.404   100.64\n",
       "118  100.653  100.282  100.384\n",
       "119  100.323   100.19  100.194\n",
       "120  100.417  100.417  100.417"
      ]
     },
     "execution_count": 18,
     "metadata": {},
     "output_type": "execute_result"
    }
   ],
   "source": [
    "price_10 = erk.bond_price(10, 100, 0.05, 12, rates)\n",
    "price_10[[1,2,3]].tail()"
   ]
  },
  {
   "cell_type": "code",
   "execution_count": 19,
   "metadata": {},
   "outputs": [
    {
     "data": {
      "text/html": [
       "<div>\n",
       "<style scoped>\n",
       "    .dataframe tbody tr th:only-of-type {\n",
       "        vertical-align: middle;\n",
       "    }\n",
       "\n",
       "    .dataframe tbody tr th {\n",
       "        vertical-align: top;\n",
       "    }\n",
       "\n",
       "    .dataframe thead th {\n",
       "        text-align: right;\n",
       "    }\n",
       "</style>\n",
       "<table border=\"1\" class=\"dataframe\">\n",
       "  <thead>\n",
       "    <tr style=\"text-align: right;\">\n",
       "      <th></th>\n",
       "      <th>1</th>\n",
       "      <th>2</th>\n",
       "      <th>3</th>\n",
       "    </tr>\n",
       "  </thead>\n",
       "  <tbody>\n",
       "    <tr>\n",
       "      <th>116</th>\n",
       "      <td>171.68</td>\n",
       "      <td>122.782</td>\n",
       "      <td>143.867</td>\n",
       "    </tr>\n",
       "    <tr>\n",
       "      <th>117</th>\n",
       "      <td>165.142</td>\n",
       "      <td>123.786</td>\n",
       "      <td>141.091</td>\n",
       "    </tr>\n",
       "    <tr>\n",
       "      <th>118</th>\n",
       "      <td>171.127</td>\n",
       "      <td>124.961</td>\n",
       "      <td>136.001</td>\n",
       "    </tr>\n",
       "    <tr>\n",
       "      <th>119</th>\n",
       "      <td>169.626</td>\n",
       "      <td>135.352</td>\n",
       "      <td>136.299</td>\n",
       "    </tr>\n",
       "    <tr>\n",
       "      <th>120</th>\n",
       "      <td>171.171</td>\n",
       "      <td>146.281</td>\n",
       "      <td>132.611</td>\n",
       "    </tr>\n",
       "  </tbody>\n",
       "</table>\n",
       "</div>"
      ],
      "text/plain": [
       "           1        2        3\n",
       "116   171.68  122.782  143.867\n",
       "117  165.142  123.786  141.091\n",
       "118  171.127  124.961  136.001\n",
       "119  169.626  135.352  136.299\n",
       "120  171.171  146.281  132.611"
      ]
     },
     "execution_count": 19,
     "metadata": {},
     "output_type": "execute_result"
    }
   ],
   "source": [
    "price_30 = erk.bond_price(30, 100, 0.05, 12, rates)\n",
    "price_30[[1,2,3]].tail()"
   ]
  },
  {
   "cell_type": "code",
   "execution_count": 20,
   "metadata": {},
   "outputs": [
    {
     "data": {
      "text/html": [
       "<div>\n",
       "<style scoped>\n",
       "    .dataframe tbody tr th:only-of-type {\n",
       "        vertical-align: middle;\n",
       "    }\n",
       "\n",
       "    .dataframe tbody tr th {\n",
       "        vertical-align: top;\n",
       "    }\n",
       "\n",
       "    .dataframe thead th {\n",
       "        text-align: right;\n",
       "    }\n",
       "</style>\n",
       "<table border=\"1\" class=\"dataframe\">\n",
       "  <thead>\n",
       "    <tr style=\"text-align: right;\">\n",
       "      <th></th>\n",
       "      <th>1</th>\n",
       "      <th>2</th>\n",
       "      <th>3</th>\n",
       "    </tr>\n",
       "  </thead>\n",
       "  <tbody>\n",
       "    <tr>\n",
       "      <th>0</th>\n",
       "      <td>139.532</td>\n",
       "      <td>139.532</td>\n",
       "      <td>139.532</td>\n",
       "    </tr>\n",
       "    <tr>\n",
       "      <th>1</th>\n",
       "      <td>148.522</td>\n",
       "      <td>136.044</td>\n",
       "      <td>131.82</td>\n",
       "    </tr>\n",
       "    <tr>\n",
       "      <th>2</th>\n",
       "      <td>153.566</td>\n",
       "      <td>135.883</td>\n",
       "      <td>131.065</td>\n",
       "    </tr>\n",
       "    <tr>\n",
       "      <th>3</th>\n",
       "      <td>153.517</td>\n",
       "      <td>137.076</td>\n",
       "      <td>125.819</td>\n",
       "    </tr>\n",
       "    <tr>\n",
       "      <th>4</th>\n",
       "      <td>155.835</td>\n",
       "      <td>122.482</td>\n",
       "      <td>133.496</td>\n",
       "    </tr>\n",
       "  </tbody>\n",
       "</table>\n",
       "</div>"
      ],
      "text/plain": [
       "         1        2        3\n",
       "0  139.532  139.532  139.532\n",
       "1  148.522  136.044   131.82\n",
       "2  153.566  135.883  131.065\n",
       "3  153.517  137.076  125.819\n",
       "4  155.835  122.482  133.496"
      ]
     },
     "execution_count": 20,
     "metadata": {},
     "output_type": "execute_result"
    }
   ],
   "source": [
    "price_30[[1,2,3]].head()"
   ]
  },
  {
   "cell_type": "code",
   "execution_count": 22,
   "metadata": {},
   "outputs": [
    {
     "data": {
      "text/html": [
       "<div>\n",
       "<style scoped>\n",
       "    .dataframe tbody tr th:only-of-type {\n",
       "        vertical-align: middle;\n",
       "    }\n",
       "\n",
       "    .dataframe tbody tr th {\n",
       "        vertical-align: top;\n",
       "    }\n",
       "\n",
       "    .dataframe thead th {\n",
       "        text-align: right;\n",
       "    }\n",
       "</style>\n",
       "<table border=\"1\" class=\"dataframe\">\n",
       "  <thead>\n",
       "    <tr style=\"text-align: right;\">\n",
       "      <th></th>\n",
       "      <th>0</th>\n",
       "      <th>1</th>\n",
       "      <th>2</th>\n",
       "      <th>3</th>\n",
       "      <th>4</th>\n",
       "      <th>5</th>\n",
       "      <th>6</th>\n",
       "      <th>7</th>\n",
       "      <th>8</th>\n",
       "      <th>9</th>\n",
       "      <th>...</th>\n",
       "      <th>490</th>\n",
       "      <th>491</th>\n",
       "      <th>492</th>\n",
       "      <th>493</th>\n",
       "      <th>494</th>\n",
       "      <th>495</th>\n",
       "      <th>496</th>\n",
       "      <th>497</th>\n",
       "      <th>498</th>\n",
       "      <th>499</th>\n",
       "    </tr>\n",
       "  </thead>\n",
       "  <tbody>\n",
       "    <tr>\n",
       "      <th>1</th>\n",
       "      <td>0.0636746</td>\n",
       "      <td>0.045563</td>\n",
       "      <td>-0.0139978</td>\n",
       "      <td>-0.0345804</td>\n",
       "      <td>0.00620629</td>\n",
       "      <td>-0.0242437</td>\n",
       "      <td>0.000676807</td>\n",
       "      <td>0.00685432</td>\n",
       "      <td>-0.041307</td>\n",
       "      <td>0.0202066</td>\n",
       "      <td>...</td>\n",
       "      <td>-0.0128265</td>\n",
       "      <td>0.0137058</td>\n",
       "      <td>-0.0266742</td>\n",
       "      <td>0.0314278</td>\n",
       "      <td>-0.00413381</td>\n",
       "      <td>-0.00232949</td>\n",
       "      <td>-0.0262022</td>\n",
       "      <td>-0.0173493</td>\n",
       "      <td>0.0292664</td>\n",
       "      <td>0.038184</td>\n",
       "    </tr>\n",
       "    <tr>\n",
       "      <th>2</th>\n",
       "      <td>-0.028374</td>\n",
       "      <td>0.0250397</td>\n",
       "      <td>0.00212015</td>\n",
       "      <td>-0.000827059</td>\n",
       "      <td>0.0449268</td>\n",
       "      <td>-0.00772404</td>\n",
       "      <td>-0.0238395</td>\n",
       "      <td>-0.0140119</td>\n",
       "      <td>0.00645704</td>\n",
       "      <td>0.0088615</td>\n",
       "      <td>...</td>\n",
       "      <td>-0.0325424</td>\n",
       "      <td>-0.0229711</td>\n",
       "      <td>-0.0211045</td>\n",
       "      <td>0.0230142</td>\n",
       "      <td>0.00972572</td>\n",
       "      <td>0.0795811</td>\n",
       "      <td>0.0284039</td>\n",
       "      <td>0.053324</td>\n",
       "      <td>-0.0497035</td>\n",
       "      <td>-0.0477635</td>\n",
       "    </tr>\n",
       "    <tr>\n",
       "      <th>3</th>\n",
       "      <td>-0.0335467</td>\n",
       "      <td>0.00227801</td>\n",
       "      <td>0.00878957</td>\n",
       "      <td>-0.0240525</td>\n",
       "      <td>-0.0306812</td>\n",
       "      <td>0.0280048</td>\n",
       "      <td>-0.0699645</td>\n",
       "      <td>0.0459937</td>\n",
       "      <td>0.00348564</td>\n",
       "      <td>0.0189771</td>\n",
       "      <td>...</td>\n",
       "      <td>0.0324697</td>\n",
       "      <td>0.0567594</td>\n",
       "      <td>0.0127332</td>\n",
       "      <td>0.019558</td>\n",
       "      <td>-0.0277973</td>\n",
       "      <td>0.0112241</td>\n",
       "      <td>0.00485632</td>\n",
       "      <td>-0.0123762</td>\n",
       "      <td>0.00824842</td>\n",
       "      <td>0.00103058</td>\n",
       "    </tr>\n",
       "    <tr>\n",
       "      <th>4</th>\n",
       "      <td>0.0367445</td>\n",
       "      <td>0.012413</td>\n",
       "      <td>-0.0695482</td>\n",
       "      <td>0.0439374</td>\n",
       "      <td>0.0202458</td>\n",
       "      <td>-0.0185508</td>\n",
       "      <td>0.00367553</td>\n",
       "      <td>-0.00428763</td>\n",
       "      <td>0.0176971</td>\n",
       "      <td>-0.0191453</td>\n",
       "      <td>...</td>\n",
       "      <td>0.0194835</td>\n",
       "      <td>0.00929377</td>\n",
       "      <td>-0.0080369</td>\n",
       "      <td>0.00537797</td>\n",
       "      <td>-0.0315347</td>\n",
       "      <td>-0.0135344</td>\n",
       "      <td>0.0252444</td>\n",
       "      <td>-0.0557652</td>\n",
       "      <td>0.0496296</td>\n",
       "      <td>-0.0375195</td>\n",
       "    </tr>\n",
       "    <tr>\n",
       "      <th>5</th>\n",
       "      <td>0.00728725</td>\n",
       "      <td>0.0336048</td>\n",
       "      <td>0.00581161</td>\n",
       "      <td>0.0528858</td>\n",
       "      <td>0.0184641</td>\n",
       "      <td>0.063739</td>\n",
       "      <td>0.0223048</td>\n",
       "      <td>-0.0318442</td>\n",
       "      <td>0.00201049</td>\n",
       "      <td>0.0466256</td>\n",
       "      <td>...</td>\n",
       "      <td>-0.0454069</td>\n",
       "      <td>0.0513344</td>\n",
       "      <td>0.0132793</td>\n",
       "      <td>-0.00255192</td>\n",
       "      <td>0.0261044</td>\n",
       "      <td>-0.000181071</td>\n",
       "      <td>0.0100741</td>\n",
       "      <td>0.0352676</td>\n",
       "      <td>-0.022462</td>\n",
       "      <td>0.0347167</td>\n",
       "    </tr>\n",
       "  </tbody>\n",
       "</table>\n",
       "<p>5 rows × 500 columns</p>\n",
       "</div>"
      ],
      "text/plain": [
       "          0           1           2            3           4           5    \\\n",
       "1   0.0636746    0.045563  -0.0139978   -0.0345804  0.00620629  -0.0242437   \n",
       "2   -0.028374   0.0250397  0.00212015 -0.000827059   0.0449268 -0.00772404   \n",
       "3  -0.0335467  0.00227801  0.00878957   -0.0240525  -0.0306812   0.0280048   \n",
       "4   0.0367445    0.012413  -0.0695482    0.0439374   0.0202458  -0.0185508   \n",
       "5  0.00728725   0.0336048  0.00581161    0.0528858   0.0184641    0.063739   \n",
       "\n",
       "           6           7           8          9    ...        490         491  \\\n",
       "1  0.000676807  0.00685432   -0.041307  0.0202066  ... -0.0128265   0.0137058   \n",
       "2   -0.0238395  -0.0140119  0.00645704  0.0088615  ... -0.0325424  -0.0229711   \n",
       "3   -0.0699645   0.0459937  0.00348564  0.0189771  ...  0.0324697   0.0567594   \n",
       "4   0.00367553 -0.00428763   0.0176971 -0.0191453  ...  0.0194835  0.00929377   \n",
       "5    0.0223048  -0.0318442  0.00201049  0.0466256  ... -0.0454069   0.0513344   \n",
       "\n",
       "         492         493         494          495         496        497  \\\n",
       "1 -0.0266742   0.0314278 -0.00413381  -0.00232949  -0.0262022 -0.0173493   \n",
       "2 -0.0211045   0.0230142  0.00972572    0.0795811   0.0284039   0.053324   \n",
       "3  0.0127332    0.019558  -0.0277973    0.0112241  0.00485632 -0.0123762   \n",
       "4 -0.0080369  0.00537797  -0.0315347   -0.0135344   0.0252444 -0.0557652   \n",
       "5  0.0132793 -0.00255192   0.0261044 -0.000181071   0.0100741  0.0352676   \n",
       "\n",
       "          498         499  \n",
       "1   0.0292664    0.038184  \n",
       "2  -0.0497035  -0.0477635  \n",
       "3  0.00824842  0.00103058  \n",
       "4   0.0496296  -0.0375195  \n",
       "5   -0.022462   0.0347167  \n",
       "\n",
       "[5 rows x 500 columns]"
      ]
     },
     "execution_count": 22,
     "metadata": {},
     "output_type": "execute_result"
    }
   ],
   "source": [
    "rets_30 = erk.bond_total_return(price_30, 100, 0.05, 12)\n",
    "rets_10 = erk.bond_total_return(price_10, 100, 0.05, 12)\n",
    "# let's construct a mix of 30 year and 10 year bond\n",
    "rets_bonds = 0.6*rets_10 + 0.4*rets_30\n",
    "rets_bonds.head()"
   ]
  },
  {
   "cell_type": "code",
   "execution_count": 24,
   "metadata": {},
   "outputs": [
    {
     "data": {
      "text/html": [
       "<div>\n",
       "<style scoped>\n",
       "    .dataframe tbody tr th:only-of-type {\n",
       "        vertical-align: middle;\n",
       "    }\n",
       "\n",
       "    .dataframe tbody tr th {\n",
       "        vertical-align: top;\n",
       "    }\n",
       "\n",
       "    .dataframe thead th {\n",
       "        text-align: right;\n",
       "    }\n",
       "</style>\n",
       "<table border=\"1\" class=\"dataframe\">\n",
       "  <thead>\n",
       "    <tr style=\"text-align: right;\">\n",
       "      <th></th>\n",
       "      <th>Annualized Return</th>\n",
       "      <th>Annualized Vol</th>\n",
       "      <th>Skewness</th>\n",
       "      <th>Kurtosis</th>\n",
       "      <th>Cornish-Fisher VaR (5%)</th>\n",
       "      <th>Historic CVaR (5%)</th>\n",
       "      <th>Sharpe Ratio</th>\n",
       "      <th>Max Drawdown</th>\n",
       "    </tr>\n",
       "  </thead>\n",
       "  <tbody>\n",
       "    <tr>\n",
       "      <th>0</th>\n",
       "      <td>0.036492</td>\n",
       "      <td>0.003799</td>\n",
       "      <td>0.309204</td>\n",
       "      <td>4.102887</td>\n",
       "      <td>-0.001318</td>\n",
       "      <td>-0.000824</td>\n",
       "      <td>1.66307</td>\n",
       "      <td>-0.00062</td>\n",
       "    </tr>\n",
       "  </tbody>\n",
       "</table>\n",
       "</div>"
      ],
      "text/plain": [
       "   Annualized Return  Annualized Vol  Skewness  Kurtosis  \\\n",
       "0           0.036492        0.003799  0.309204  4.102887   \n",
       "\n",
       "   Cornish-Fisher VaR (5%)  Historic CVaR (5%)  Sharpe Ratio  Max Drawdown  \n",
       "0                -0.001318           -0.000824       1.66307      -0.00062  "
      ]
     },
     "execution_count": 24,
     "metadata": {},
     "output_type": "execute_result"
    }
   ],
   "source": [
    "mean_rets_bonds = rets_bonds.mean(axis='columns')\n",
    "erk.summary_stats(pd.DataFrame(mean_rets_bonds))"
   ]
  },
  {
   "cell_type": "code",
   "execution_count": 25,
   "metadata": {},
   "outputs": [
    {
     "data": {
      "text/plain": [
       "(121, 500)"
      ]
     },
     "execution_count": 25,
     "metadata": {},
     "output_type": "execute_result"
    }
   ],
   "source": [
    "price_eq = erk.gbm(n_years=10, n_scenarios=500, mu=0.07, sigma=0.15)\n",
    "price_eq.shape"
   ]
  },
  {
   "cell_type": "code",
   "execution_count": 27,
   "metadata": {},
   "outputs": [
    {
     "data": {
      "text/plain": [
       "(120, 500)"
      ]
     },
     "execution_count": 27,
     "metadata": {},
     "output_type": "execute_result"
    }
   ],
   "source": [
    "rets_eq = price_eq.pct_change().dropna()\n",
    "rets_eq.shape"
   ]
  },
  {
   "cell_type": "code",
   "execution_count": 28,
   "metadata": {},
   "outputs": [
    {
     "data": {
      "text/html": [
       "<div>\n",
       "<style scoped>\n",
       "    .dataframe tbody tr th:only-of-type {\n",
       "        vertical-align: middle;\n",
       "    }\n",
       "\n",
       "    .dataframe tbody tr th {\n",
       "        vertical-align: top;\n",
       "    }\n",
       "\n",
       "    .dataframe thead th {\n",
       "        text-align: right;\n",
       "    }\n",
       "</style>\n",
       "<table border=\"1\" class=\"dataframe\">\n",
       "  <thead>\n",
       "    <tr style=\"text-align: right;\">\n",
       "      <th></th>\n",
       "      <th>Annualized Return</th>\n",
       "      <th>Annualized Vol</th>\n",
       "      <th>Skewness</th>\n",
       "      <th>Kurtosis</th>\n",
       "      <th>Cornish-Fisher VaR (5%)</th>\n",
       "      <th>Historic CVaR (5%)</th>\n",
       "      <th>Sharpe Ratio</th>\n",
       "      <th>Max Drawdown</th>\n",
       "    </tr>\n",
       "  </thead>\n",
       "  <tbody>\n",
       "    <tr>\n",
       "      <th>0</th>\n",
       "      <td>0.057786</td>\n",
       "      <td>0.004257</td>\n",
       "      <td>-0.103335</td>\n",
       "      <td>2.738026</td>\n",
       "      <td>-0.002638</td>\n",
       "      <td>-0.002099</td>\n",
       "      <td>6.352114</td>\n",
       "      <td>0.0</td>\n",
       "    </tr>\n",
       "  </tbody>\n",
       "</table>\n",
       "</div>"
      ],
      "text/plain": [
       "   Annualized Return  Annualized Vol  Skewness  Kurtosis  \\\n",
       "0           0.057786        0.004257 -0.103335  2.738026   \n",
       "\n",
       "   Cornish-Fisher VaR (5%)  Historic CVaR (5%)  Sharpe Ratio  Max Drawdown  \n",
       "0                -0.002638           -0.002099      6.352114           0.0  "
      ]
     },
     "execution_count": 28,
     "metadata": {},
     "output_type": "execute_result"
    }
   ],
   "source": [
    "rets = 0.7*rets_eq + 0.3*rets_bonds\n",
    "rets_mean = rets.mean(axis='columns')\n",
    "erk.summary_stats(pd.DataFrame(rets_mean))"
   ]
  },
  {
   "cell_type": "code",
   "execution_count": null,
   "metadata": {},
   "outputs": [],
   "source": []
  }
 ],
 "metadata": {
  "kernelspec": {
   "display_name": "Python 3",
   "language": "python",
   "name": "python3"
  },
  "language_info": {
   "codemirror_mode": {
    "name": "ipython",
    "version": 3
   },
   "file_extension": ".py",
   "mimetype": "text/x-python",
   "name": "python",
   "nbconvert_exporter": "python",
   "pygments_lexer": "ipython3",
   "version": "3.8.3"
  }
 },
 "nbformat": 4,
 "nbformat_minor": 4
}
