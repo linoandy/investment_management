{
 "cells": [
  {
   "cell_type": "markdown",
   "metadata": {},
   "source": [
    "### Implementing Portfolio Insurance (CPPI) and Drawdown Constraints"
   ]
  },
  {
   "cell_type": "code",
   "execution_count": 1,
   "metadata": {},
   "outputs": [],
   "source": [
    "%load_ext autoreload\n",
    "%autoreload 2\n",
    "%matplotlib inline\n",
    "\n",
    "import edhec_risk_kit as erk\n",
    "import numpy as np\n",
    "import pandas as pd\n",
    "\n",
    "# Load the industry returns and the total market index we previously created\n",
    "ind_return = erk.get_ind_returns()\n",
    "tmi_return = erk.get_total_market_index_returns()"
   ]
  },
  {
   "cell_type": "code",
   "execution_count": 3,
   "metadata": {},
   "outputs": [],
   "source": [
    "# risky assets\n",
    "risky_r = ind_return['2000':][['Steel', 'Fin', 'Beer']]\n",
    "# safe assets\n",
    "safe_r = pd.DataFrame().reindex_like(risky_r)\n",
    "safe_r[:] = 0.03/12"
   ]
  },
  {
   "cell_type": "code",
   "execution_count": 4,
   "metadata": {},
   "outputs": [
    {
     "data": {
      "text/plain": [
       "(228, 3)"
      ]
     },
     "execution_count": 4,
     "metadata": {},
     "output_type": "execute_result"
    }
   ],
   "source": [
    "safe_r.shape"
   ]
  },
  {
   "cell_type": "code",
   "execution_count": 5,
   "metadata": {},
   "outputs": [],
   "source": [
    "start = 1000\n",
    "floor = 0.8"
   ]
  },
  {
   "cell_type": "markdown",
   "metadata": {},
   "source": [
    "1. Cushion: (Asset Value minus Floor Value)\n",
    "2. Compute an allocation to Safe and Risky Assets --> m * risk budget\n",
    "3. Recompute the Asset Value based on the returns"
   ]
  },
  {
   "cell_type": "code",
   "execution_count": 6,
   "metadata": {},
   "outputs": [],
   "source": [
    "dates = risky_r.index\n",
    "n_steps = len(dates)\n",
    "account_value = start\n",
    "floor_value = start*floor\n",
    "m = 3\n",
    "\n",
    "account_history = pd.DataFrame().reindex_like(risky_r)\n",
    "cushion_history = pd.DataFrame().reindex_like(risky_r)\n",
    "risky_w_history = pd.DataFrame().reindex_like(risky_r)\n",
    "\n",
    "for step in range(n_steps):\n",
    "    cushion = (account_value - floor_value)/account_value\n",
    "    risky_w = m * cushion\n",
    "    # constrain the risky asset weight between 0 and 1, so that we don't borrow money for investment (if risky_w > 1)\n",
    "    # or short sell (if risky_w < 0)\n",
    "    risky_w = np.minimum(risky_w, 1)\n",
    "    risky_w = np.maximum(risky_w, 0)\n",
    "    safe_w = 1 - risky_w\n",
    "    risky_alloc = account_value * risky_w\n",
    "    safe_alloc = account_value * safe_w\n",
    "    # update the account value for this time step\n",
    "    account_value = risky_alloc * (1 + risky_r.iloc[step]) + safe_alloc * (1 + safe_r.iloc[step])\n",
    "    # save the values so we can look at the history and plot it\n",
    "    cushion_history.iloc[step] = cushion\n",
    "    risky_w_history.iloc[step] = risky_w\n",
    "    account_history.iloc[step] = account_value\n",
    "    \n",
    "    "
   ]
  },
  {
   "cell_type": "code",
   "execution_count": 7,
   "metadata": {},
   "outputs": [
    {
     "data": {
      "text/html": [
       "<div>\n",
       "<style scoped>\n",
       "    .dataframe tbody tr th:only-of-type {\n",
       "        vertical-align: middle;\n",
       "    }\n",
       "\n",
       "    .dataframe tbody tr th {\n",
       "        vertical-align: top;\n",
       "    }\n",
       "\n",
       "    .dataframe thead th {\n",
       "        text-align: right;\n",
       "    }\n",
       "</style>\n",
       "<table border=\"1\" class=\"dataframe\">\n",
       "  <thead>\n",
       "    <tr style=\"text-align: right;\">\n",
       "      <th></th>\n",
       "      <th>Steel</th>\n",
       "      <th>Fin</th>\n",
       "      <th>Beer</th>\n",
       "    </tr>\n",
       "  </thead>\n",
       "  <tbody>\n",
       "    <tr>\n",
       "      <th>2000-01</th>\n",
       "      <td>984.380000</td>\n",
       "      <td>974.480000</td>\n",
       "      <td>987.320000</td>\n",
       "    </tr>\n",
       "    <tr>\n",
       "      <th>2000-02</th>\n",
       "      <td>1023.292876</td>\n",
       "      <td>931.167544</td>\n",
       "      <td>922.971256</td>\n",
       "    </tr>\n",
       "    <tr>\n",
       "      <th>2000-03</th>\n",
       "      <td>1047.555176</td>\n",
       "      <td>998.187296</td>\n",
       "      <td>924.835988</td>\n",
       "    </tr>\n",
       "    <tr>\n",
       "      <th>2000-04</th>\n",
       "      <td>1042.079009</td>\n",
       "      <td>973.927479</td>\n",
       "      <td>939.993701</td>\n",
       "    </tr>\n",
       "    <tr>\n",
       "      <th>2000-05</th>\n",
       "      <td>1007.137753</td>\n",
       "      <td>1001.460033</td>\n",
       "      <td>991.145489</td>\n",
       "    </tr>\n",
       "  </tbody>\n",
       "</table>\n",
       "</div>"
      ],
      "text/plain": [
       "               Steel          Fin        Beer\n",
       "2000-01   984.380000   974.480000  987.320000\n",
       "2000-02  1023.292876   931.167544  922.971256\n",
       "2000-03  1047.555176   998.187296  924.835988\n",
       "2000-04  1042.079009   973.927479  939.993701\n",
       "2000-05  1007.137753  1001.460033  991.145489"
      ]
     },
     "execution_count": 7,
     "metadata": {},
     "output_type": "execute_result"
    }
   ],
   "source": [
    "account_history.head()"
   ]
  },
  {
   "cell_type": "code",
   "execution_count": 8,
   "metadata": {},
   "outputs": [],
   "source": [
    "risky_wealth = start * (1 + risky_r).cumprod()"
   ]
  },
  {
   "cell_type": "code",
   "execution_count": null,
   "metadata": {},
   "outputs": [],
   "source": []
  }
 ],
 "metadata": {
  "kernelspec": {
   "display_name": "Python 3",
   "language": "python",
   "name": "python3"
  },
  "language_info": {
   "codemirror_mode": {
    "name": "ipython",
    "version": 3
   },
   "file_extension": ".py",
   "mimetype": "text/x-python",
   "name": "python",
   "nbconvert_exporter": "python",
   "pygments_lexer": "ipython3",
   "version": "3.7.6"
  }
 },
 "nbformat": 4,
 "nbformat_minor": 4
}
