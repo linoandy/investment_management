{
 "cells": [
  {
   "cell_type": "code",
   "execution_count": 1,
   "metadata": {},
   "outputs": [],
   "source": [
    "%load_ext autoreload\n",
    "%autoreload 2\n",
    "%matplotlib inline\n",
    "\n",
    "# https://www.akshare.xyz/zh_CN/latest/introduction.html\n",
    "import akshare as ak\n",
    "import json\n",
    "import pandas as pd\n",
    "import numpy as np\n",
    "import rui_risk_kit as rrk\n",
    "import fastquotes\n",
    "import matplotlib.pyplot as plt\n",
    "import pypfopt\n",
    "from pypfopt import plotting\n",
    "\n",
    "# from pypfopt import black_litterman, risk_models\n",
    "# from pypfopt import BlackLittermanModel, plotting"
   ]
  },
  {
   "cell_type": "markdown",
   "metadata": {},
   "source": [
    "## Preparing Data"
   ]
  },
  {
   "cell_type": "code",
   "execution_count": 2,
   "metadata": {},
   "outputs": [],
   "source": [
    "with open('assets.json','r') as myfile:\n",
    "    data=myfile.read()\n",
    "\n",
    "assets = json.loads(data)\n",
    "\n",
    "# 构建开放式基金以及货币基金的列表\n",
    "open_mutual_fund_list = []\n",
    "currency_mutual_fund_list = []\n",
    "\n",
    "# 将开放式基金以及货币基金合并成一个dict\n",
    "portfolio = {**assets['open_fund_in_porfolio'], **assets['currency_fund_in_portfolio']}\n",
    "\n",
    "for open_fund in assets['open_fund_in_porfolio']:\n",
    "    open_mutual_fund_list.append(open_fund)\n",
    "\n",
    "for currency_fund in assets['currency_fund_in_portfolio']:\n",
    "    currency_mutual_fund_list.append(currency_fund)"
   ]
  },
  {
   "cell_type": "code",
   "execution_count": 3,
   "metadata": {},
   "outputs": [
    {
     "data": {
      "text/html": [
       "<div>\n",
       "<style scoped>\n",
       "    .dataframe tbody tr th:only-of-type {\n",
       "        vertical-align: middle;\n",
       "    }\n",
       "\n",
       "    .dataframe tbody tr th {\n",
       "        vertical-align: top;\n",
       "    }\n",
       "\n",
       "    .dataframe thead th {\n",
       "        text-align: right;\n",
       "    }\n",
       "</style>\n",
       "<table border=\"1\" class=\"dataframe\">\n",
       "  <thead>\n",
       "    <tr style=\"text-align: right;\">\n",
       "      <th></th>\n",
       "      <th>004342</th>\n",
       "      <th>163406</th>\n",
       "      <th>001714</th>\n",
       "      <th>003095</th>\n",
       "      <th>003096</th>\n",
       "      <th>161725</th>\n",
       "      <th>502056</th>\n",
       "      <th>005918</th>\n",
       "      <th>002963</th>\n",
       "      <th>213009</th>\n",
       "      <th>004972</th>\n",
       "    </tr>\n",
       "    <tr>\n",
       "      <th>净值日期</th>\n",
       "      <th></th>\n",
       "      <th></th>\n",
       "      <th></th>\n",
       "      <th></th>\n",
       "      <th></th>\n",
       "      <th></th>\n",
       "      <th></th>\n",
       "      <th></th>\n",
       "      <th></th>\n",
       "      <th></th>\n",
       "      <th></th>\n",
       "    </tr>\n",
       "  </thead>\n",
       "  <tbody>\n",
       "    <tr>\n",
       "      <th>2021-07-21</th>\n",
       "      <td>2.2523</td>\n",
       "      <td>8.0696</td>\n",
       "      <td>3.978</td>\n",
       "      <td>4.251</td>\n",
       "      <td>4.198</td>\n",
       "      <td>3.1267</td>\n",
       "      <td>1.6613</td>\n",
       "      <td>1.4453</td>\n",
       "      <td>1.2887</td>\n",
       "      <td>0.5916</td>\n",
       "      <td>0.7058</td>\n",
       "    </tr>\n",
       "    <tr>\n",
       "      <th>2021-07-22</th>\n",
       "      <td>2.2575</td>\n",
       "      <td>8.0426</td>\n",
       "      <td>3.984</td>\n",
       "      <td>4.126</td>\n",
       "      <td>4.075</td>\n",
       "      <td>3.0976</td>\n",
       "      <td>1.6282</td>\n",
       "      <td>1.4484</td>\n",
       "      <td>1.2816</td>\n",
       "      <td>0.5253</td>\n",
       "      <td>0.6518</td>\n",
       "    </tr>\n",
       "    <tr>\n",
       "      <th>2021-07-23</th>\n",
       "      <td>2.2334</td>\n",
       "      <td>7.9479</td>\n",
       "      <td>3.926</td>\n",
       "      <td>3.984</td>\n",
       "      <td>3.934</td>\n",
       "      <td>3.0640</td>\n",
       "      <td>1.5764</td>\n",
       "      <td>1.4318</td>\n",
       "      <td>1.2860</td>\n",
       "      <td>0.5803</td>\n",
       "      <td>0.6534</td>\n",
       "    </tr>\n",
       "    <tr>\n",
       "      <th>2021-07-24</th>\n",
       "      <td>NaN</td>\n",
       "      <td>NaN</td>\n",
       "      <td>NaN</td>\n",
       "      <td>NaN</td>\n",
       "      <td>NaN</td>\n",
       "      <td>NaN</td>\n",
       "      <td>NaN</td>\n",
       "      <td>NaN</td>\n",
       "      <td>NaN</td>\n",
       "      <td>NaN</td>\n",
       "      <td>0.6530</td>\n",
       "    </tr>\n",
       "    <tr>\n",
       "      <th>2021-07-25</th>\n",
       "      <td>NaN</td>\n",
       "      <td>NaN</td>\n",
       "      <td>NaN</td>\n",
       "      <td>NaN</td>\n",
       "      <td>NaN</td>\n",
       "      <td>NaN</td>\n",
       "      <td>NaN</td>\n",
       "      <td>NaN</td>\n",
       "      <td>NaN</td>\n",
       "      <td>NaN</td>\n",
       "      <td>0.6530</td>\n",
       "    </tr>\n",
       "  </tbody>\n",
       "</table>\n",
       "</div>"
      ],
      "text/plain": [
       "            004342  163406  001714  003095  003096  161725  502056  005918  \\\n",
       "净值日期                                                                         \n",
       "2021-07-21  2.2523  8.0696   3.978   4.251   4.198  3.1267  1.6613  1.4453   \n",
       "2021-07-22  2.2575  8.0426   3.984   4.126   4.075  3.0976  1.6282  1.4484   \n",
       "2021-07-23  2.2334  7.9479   3.926   3.984   3.934  3.0640  1.5764  1.4318   \n",
       "2021-07-24     NaN     NaN     NaN     NaN     NaN     NaN     NaN     NaN   \n",
       "2021-07-25     NaN     NaN     NaN     NaN     NaN     NaN     NaN     NaN   \n",
       "\n",
       "            002963  213009  004972  \n",
       "净值日期                                \n",
       "2021-07-21  1.2887  0.5916  0.7058  \n",
       "2021-07-22  1.2816  0.5253  0.6518  \n",
       "2021-07-23  1.2860  0.5803  0.6534  \n",
       "2021-07-24     NaN     NaN  0.6530  \n",
       "2021-07-25     NaN     NaN  0.6530  "
      ]
     },
     "execution_count": 3,
     "metadata": {},
     "output_type": "execute_result"
    }
   ],
   "source": [
    "currency_fund_info_df = rrk.get_currency_fund_values(currency_mutual_fund_list)\n",
    "fund_em_info_df = rrk.get_mf_values(open_mutual_fund_list, indicator='累计净值走势')\n",
    "\n",
    "# concatenate DataFrame(currency_fund_info_df) to Dataframe(fund_em_info_df)\n",
    "fund_em_info_df = pd.concat([fund_em_info_df, currency_fund_info_df], axis=1)\n",
    "portfolio_fund_list = open_mutual_fund_list + currency_mutual_fund_list\n",
    "\n",
    "# replace NA with value from previous trading day\n",
    "# fund_em_info_df.fillna(method ='ffill', inplace = True)\n",
    "\n",
    "# use return data starting from year 2021\n",
    "fund_em_info_df = fund_em_info_df[\"2021\":]\n",
    "\n",
    "fund_em_info_df.tail()"
   ]
  },
  {
   "cell_type": "code",
   "execution_count": 4,
   "metadata": {},
   "outputs": [
    {
     "data": {
      "text/plain": [
       "{'004342': 68000000.0,\n",
       " '163406': 32054000000.000004,\n",
       " '001714': 17855000000.0,\n",
       " '003095': 26260000000.000004,\n",
       " '003096': 24238000000.0,\n",
       " '161725': 65845000000.00001,\n",
       " '502056': 420000000.0,\n",
       " '005918': 4315000000.0,\n",
       " '002963': 3049000000.0,\n",
       " '213009': 18781000000.0,\n",
       " '004972': 13941999999.999998}"
      ]
     },
     "execution_count": 4,
     "metadata": {},
     "output_type": "execute_result"
    }
   ],
   "source": [
    "# 获取基金规模，代表基金的市值，该数据每季度更新一次\n",
    "mcaps = {}\n",
    "for fund in portfolio_fund_list:\n",
    "    mcaps[fund] = fastquotes.fund.daily.fund_size(fund) * 100000000\n",
    "mcaps"
   ]
  },
  {
   "cell_type": "code",
   "execution_count": 5,
   "metadata": {},
   "outputs": [
    {
     "name": "stderr",
     "output_type": "stream",
     "text": [
      "100%|██████████| 17/17 [00:13<00:00,  1.29it/s]\n"
     ]
    },
    {
     "data": {
      "text/html": [
       "<div>\n",
       "<style scoped>\n",
       "    .dataframe tbody tr th:only-of-type {\n",
       "        vertical-align: middle;\n",
       "    }\n",
       "\n",
       "    .dataframe tbody tr th {\n",
       "        vertical-align: top;\n",
       "    }\n",
       "\n",
       "    .dataframe thead th {\n",
       "        text-align: right;\n",
       "    }\n",
       "</style>\n",
       "<table border=\"1\" class=\"dataframe\">\n",
       "  <thead>\n",
       "    <tr style=\"text-align: right;\">\n",
       "      <th></th>\n",
       "      <th>close</th>\n",
       "    </tr>\n",
       "    <tr>\n",
       "      <th>date</th>\n",
       "      <th></th>\n",
       "    </tr>\n",
       "  </thead>\n",
       "  <tbody>\n",
       "    <tr>\n",
       "      <th>2021-07-19</th>\n",
       "      <td>5113.49</td>\n",
       "    </tr>\n",
       "    <tr>\n",
       "      <th>2021-07-20</th>\n",
       "      <td>5108.99</td>\n",
       "    </tr>\n",
       "    <tr>\n",
       "      <th>2021-07-21</th>\n",
       "      <td>5144.04</td>\n",
       "    </tr>\n",
       "    <tr>\n",
       "      <th>2021-07-22</th>\n",
       "      <td>5151.75</td>\n",
       "    </tr>\n",
       "    <tr>\n",
       "      <th>2021-07-23</th>\n",
       "      <td>5089.23</td>\n",
       "    </tr>\n",
       "  </tbody>\n",
       "</table>\n",
       "</div>"
      ],
      "text/plain": [
       "              close\n",
       "date               \n",
       "2021-07-19  5113.49\n",
       "2021-07-20  5108.99\n",
       "2021-07-21  5144.04\n",
       "2021-07-22  5151.75\n",
       "2021-07-23  5089.23"
      ]
     },
     "execution_count": 5,
     "metadata": {},
     "output_type": "execute_result"
    }
   ],
   "source": [
    "market_prices = ak.stock_zh_index_daily_tx(symbol=\"sh000300\")\n",
    "market_prices = market_prices.drop(market_prices.columns[[0, -1, -2, -3]], axis = 1)\n",
    "market_prices.tail()"
   ]
  },
  {
   "cell_type": "markdown",
   "metadata": {},
   "source": [
    "## Constructing the prior"
   ]
  },
  {
   "cell_type": "code",
   "execution_count": 6,
   "metadata": {},
   "outputs": [],
   "source": [
    "S = pypfopt.risk_models.CovarianceShrinkage(fund_em_info_df.dropna()).ledoit_wolf()\n",
    "delta = pypfopt.black_litterman.market_implied_risk_aversion(market_prices)\n",
    "\n",
    "# NEEDS RESEARCH. Extract value from a pandas.core.series.Series\n",
    "delta = list(delta)[0]"
   ]
  },
  {
   "cell_type": "code",
   "execution_count": 7,
   "metadata": {},
   "outputs": [
    {
     "name": "stderr",
     "output_type": "stream",
     "text": [
      "findfont: Font family ['sans-serif'] not found. Falling back to DejaVu Sans.\n"
     ]
    },
    {
     "data": {
      "text/plain": [
       "<AxesSubplot:>"
      ]
     },
     "execution_count": 7,
     "metadata": {},
     "output_type": "execute_result"
    },
    {
     "data": {
      "image/png": "[encoded data removed]",
      "text/plain": [
       "<Figure size 432x288 with 2 Axes>"
      ]
     },
     "metadata": {
      "needs_background": "light"
     },
     "output_type": "display_data"
    }
   ],
   "source": [
    "plotting.plot_covariance(S, plot_correlation=True)"
   ]
  },
  {
   "cell_type": "code",
   "execution_count": 8,
   "metadata": {},
   "outputs": [
    {
     "data": {
      "text/plain": [
       "004342    0.066273\n",
       "163406    0.093651\n",
       "001714    0.094916\n",
       "003095    0.151775\n",
       "003096    0.150276\n",
       "161725    0.112940\n",
       "502056    0.120085\n",
       "005918    0.072253\n",
       "002963    0.035717\n",
       "213009    1.920510\n",
       "004972    0.571830\n",
       "dtype: float64"
      ]
     },
     "execution_count": 8,
     "metadata": {},
     "output_type": "execute_result"
    }
   ],
   "source": [
    "market_prior = pypfopt.black_litterman.market_implied_prior_returns(mcaps, delta, S, risk_free_rate=0.023)\n",
    "market_prior"
   ]
  },
  {
   "cell_type": "code",
   "execution_count": 9,
   "metadata": {},
   "outputs": [
    {
     "data": {
      "image/png": "[encoded data removed]",
      "text/plain": [
       "<Figure size 720x360 with 1 Axes>"
      ]
     },
     "metadata": {
      "needs_background": "light"
     },
     "output_type": "display_data"
    }
   ],
   "source": [
    "market_prior.plot.barh(figsize=(10,5));"
   ]
  },
  {
   "cell_type": "markdown",
   "metadata": {},
   "source": [
    "## Views\n",
    "\n",
    "In the BL method, views are specified via the matrix P (picking matrix) and the vector Q. Q contains the magnitude of each view, while P maps the views to the assets they belong to. \n",
    "\n",
    "If you are providing **absolute views** (i.e a return estimate for each asset), you don't have to worry about P and Q, you can just pass your views as a dictionary."
   ]
  },
  {
   "cell_type": "code",
   "execution_count": 10,
   "metadata": {},
   "outputs": [],
   "source": [
    "viewdict = {\n",
    "    \"001714\": 0.10,\n",
    "    \"002963\": 0.30,\n",
    "    \"003095\": 0.05,\n",
    "    \"003096\": 0.20,\n",
    "    \"004342\": -0.05,\n",
    "    \"004972\": 0.15,\n",
    "    \"005918\": 0.10,\n",
    "    \"161725\": 0.12,\n",
    "    \"163406\": 0.13,\n",
    "    \"213009\": 0.14,\n",
    "    \"502056\": 0.10\n",
    "}\n",
    "\n",
    "bl = pypfopt.BlackLittermanModel(S, pi=market_prior, absolute_views=viewdict)"
   ]
  },
  {
   "cell_type": "markdown",
   "metadata": {},
   "source": [
    "Black-Litterman also allows for relative views, e.g you think asset A will outperform asset B by 10%. If you'd like to incorporate these, you will have to build P and Q yourself. An explanation for this is given in the [docs](https://pyportfolioopt.readthedocs.io/en/latest/BlackLitterman.html#views)."
   ]
  },
  {
   "cell_type": "markdown",
   "metadata": {},
   "source": [
    "## View confidences\n",
    "\n",
    "In this section, we provide two ways that you may wish to construct the uncertainty matrix. The first is known as Idzorek's method. It allows you to specify a vector/list of percentage confidences."
   ]
  },
  {
   "cell_type": "code",
   "execution_count": 11,
   "metadata": {},
   "outputs": [],
   "source": [
    "confidences = [\n",
    "    0.6,\n",
    "    0.4,\n",
    "    0.2,\n",
    "    0.5,\n",
    "    0.7, # confident in dominos\n",
    "    0.7, # confident KO will do poorly\n",
    "    0.7, \n",
    "    0.5,\n",
    "    0.1,\n",
    "    0.4,\n",
    "    0.2\n",
    "]"
   ]
  },
  {
   "cell_type": "code",
   "execution_count": 12,
   "metadata": {},
   "outputs": [],
   "source": [
    "bl = pypfopt.BlackLittermanModel(S, pi=market_prior, absolute_views=viewdict, omega=\"idzorek\", view_confidences=confidences)"
   ]
  },
  {
   "cell_type": "code",
   "execution_count": 13,
   "metadata": {},
   "outputs": [
    {
     "data": {
      "image/png": "[encoded data removed]",
      "text/plain": [
       "<Figure size 504x504 with 1 Axes>"
      ]
     },
     "metadata": {
      "needs_background": "light"
     },
     "output_type": "display_data"
    }
   ],
   "source": [
    "fig, ax = plt.subplots(figsize=(7,7))\n",
    "im = ax.imshow(bl.omega)\n",
    "\n",
    "# We want to show all ticks...\n",
    "ax.set_xticks(np.arange(len(bl.tickers)))\n",
    "ax.set_yticks(np.arange(len(bl.tickers)))\n",
    "\n",
    "ax.set_xticklabels(bl.tickers)\n",
    "ax.set_yticklabels(bl.tickers)\n",
    "plt.show()"
   ]
  },
  {
   "cell_type": "code",
   "execution_count": 14,
   "metadata": {},
   "outputs": [
    {
     "data": {
      "text/plain": [
       "array([0.0049006 , 0.00830899, 0.04443298, 0.01110735, 0.0027281 ,\n",
       "       0.0878612 , 0.00281687, 0.00641061, 0.05805092, 0.91478501,\n",
       "       0.03777892])"
      ]
     },
     "execution_count": 14,
     "metadata": {},
     "output_type": "execute_result"
    }
   ],
   "source": [
    "np.diag(bl.omega)"
   ]
  },
  {
   "cell_type": "markdown",
   "metadata": {},
   "source": [
    "Instead of inputting confidences, we can calculate the uncertainty matrix directly by specifying 1 standard deviation confidence intervals, i.e bounds which we think will contain the true return 68% of the time. This may be easier than coming up with somewhat arbitrary percentage confidences"
   ]
  },
  {
   "cell_type": "code",
   "execution_count": 15,
   "metadata": {},
   "outputs": [],
   "source": [
    "intervals = [\n",
    "    (0, 0.5),\n",
    "    (0.1, 0.4),\n",
    "    (-0.1, 0.15),\n",
    "    (-0.05, 0.1),\n",
    "    (0.15, 0.25),\n",
    "    (-0.1, 0),\n",
    "    (0.1, 0.2),\n",
    "    (0.08, 0.12),\n",
    "    (0.1, 0.9),\n",
    "    (0, 0.3),\n",
    "    (0, 0.3)\n",
    "]"
   ]
  },
  {
   "cell_type": "code",
   "execution_count": 16,
   "metadata": {},
   "outputs": [
    {
     "name": "stdout",
     "output_type": "stream",
     "text": [
      "[0.0625, 0.022500000000000006, 0.015625, 0.0056250000000000015, 0.0025000000000000005, 0.0025000000000000005, 0.0025000000000000005, 0.00039999999999999986, 0.16000000000000003, 0.0225, 0.0225]\n"
     ]
    }
   ],
   "source": [
    "variances = []\n",
    "for lb, ub in intervals:\n",
    "    sigma = (ub - lb)/2\n",
    "    variances.append(sigma ** 2)\n",
    "\n",
    "print(variances)\n",
    "omega = np.diag(variances)"
   ]
  },
  {
   "cell_type": "markdown",
   "metadata": {},
   "source": [
    "## Posterior estimates\n",
    "\n",
    "Given the inputs, we can compute a posterior estimate of returns\n"
   ]
  },
  {
   "cell_type": "code",
   "execution_count": 17,
   "metadata": {},
   "outputs": [],
   "source": [
    "# We are using the shortcut to automatically compute market-implied prior\n",
    "bl = pypfopt.BlackLittermanModel(S, pi=\"market\", market_caps=mcaps, risk_aversion=delta,\n",
    "                        absolute_views=viewdict, omega=omega)"
   ]
  },
  {
   "cell_type": "code",
   "execution_count": 18,
   "metadata": {},
   "outputs": [
    {
     "data": {
      "text/plain": [
       "004342   -0.016419\n",
       "163406    0.075649\n",
       "001714    0.080288\n",
       "003095    0.112416\n",
       "003096    0.162443\n",
       "161725    0.118513\n",
       "502056    0.095429\n",
       "005918    0.084661\n",
       "002963    0.066369\n",
       "213009    0.201529\n",
       "004972    0.154119\n",
       "dtype: float64"
      ]
     },
     "execution_count": 18,
     "metadata": {},
     "output_type": "execute_result"
    }
   ],
   "source": [
    "# Posterior estimate of returns\n",
    "ret_bl = bl.bl_returns()\n",
    "ret_bl"
   ]
  },
  {
   "cell_type": "markdown",
   "metadata": {},
   "source": [
    "We can visualise how this compares to the prior and our views:"
   ]
  },
  {
   "cell_type": "code",
   "execution_count": 19,
   "metadata": {},
   "outputs": [
    {
     "data": {
      "text/html": [
       "<div>\n",
       "<style scoped>\n",
       "    .dataframe tbody tr th:only-of-type {\n",
       "        vertical-align: middle;\n",
       "    }\n",
       "\n",
       "    .dataframe tbody tr th {\n",
       "        vertical-align: top;\n",
       "    }\n",
       "\n",
       "    .dataframe thead th {\n",
       "        text-align: right;\n",
       "    }\n",
       "</style>\n",
       "<table border=\"1\" class=\"dataframe\">\n",
       "  <thead>\n",
       "    <tr style=\"text-align: right;\">\n",
       "      <th></th>\n",
       "      <th>Prior</th>\n",
       "      <th>Posterior</th>\n",
       "      <th>Views</th>\n",
       "    </tr>\n",
       "  </thead>\n",
       "  <tbody>\n",
       "    <tr>\n",
       "      <th>004342</th>\n",
       "      <td>0.066273</td>\n",
       "      <td>-0.016419</td>\n",
       "      <td>-0.05</td>\n",
       "    </tr>\n",
       "    <tr>\n",
       "      <th>163406</th>\n",
       "      <td>0.093651</td>\n",
       "      <td>0.075649</td>\n",
       "      <td>0.13</td>\n",
       "    </tr>\n",
       "    <tr>\n",
       "      <th>001714</th>\n",
       "      <td>0.094916</td>\n",
       "      <td>0.080288</td>\n",
       "      <td>0.10</td>\n",
       "    </tr>\n",
       "    <tr>\n",
       "      <th>003095</th>\n",
       "      <td>0.151775</td>\n",
       "      <td>0.112416</td>\n",
       "      <td>0.05</td>\n",
       "    </tr>\n",
       "    <tr>\n",
       "      <th>003096</th>\n",
       "      <td>0.150276</td>\n",
       "      <td>0.162443</td>\n",
       "      <td>0.20</td>\n",
       "    </tr>\n",
       "    <tr>\n",
       "      <th>161725</th>\n",
       "      <td>0.112940</td>\n",
       "      <td>0.118513</td>\n",
       "      <td>0.12</td>\n",
       "    </tr>\n",
       "    <tr>\n",
       "      <th>502056</th>\n",
       "      <td>0.120085</td>\n",
       "      <td>0.095429</td>\n",
       "      <td>0.10</td>\n",
       "    </tr>\n",
       "    <tr>\n",
       "      <th>005918</th>\n",
       "      <td>0.072253</td>\n",
       "      <td>0.084661</td>\n",
       "      <td>0.10</td>\n",
       "    </tr>\n",
       "    <tr>\n",
       "      <th>002963</th>\n",
       "      <td>0.035717</td>\n",
       "      <td>0.066369</td>\n",
       "      <td>0.30</td>\n",
       "    </tr>\n",
       "    <tr>\n",
       "      <th>213009</th>\n",
       "      <td>1.920510</td>\n",
       "      <td>0.201529</td>\n",
       "      <td>0.14</td>\n",
       "    </tr>\n",
       "    <tr>\n",
       "      <th>004972</th>\n",
       "      <td>0.571830</td>\n",
       "      <td>0.154119</td>\n",
       "      <td>0.15</td>\n",
       "    </tr>\n",
       "  </tbody>\n",
       "</table>\n",
       "</div>"
      ],
      "text/plain": [
       "           Prior  Posterior  Views\n",
       "004342  0.066273  -0.016419  -0.05\n",
       "163406  0.093651   0.075649   0.13\n",
       "001714  0.094916   0.080288   0.10\n",
       "003095  0.151775   0.112416   0.05\n",
       "003096  0.150276   0.162443   0.20\n",
       "161725  0.112940   0.118513   0.12\n",
       "502056  0.120085   0.095429   0.10\n",
       "005918  0.072253   0.084661   0.10\n",
       "002963  0.035717   0.066369   0.30\n",
       "213009  1.920510   0.201529   0.14\n",
       "004972  0.571830   0.154119   0.15"
      ]
     },
     "execution_count": 19,
     "metadata": {},
     "output_type": "execute_result"
    }
   ],
   "source": [
    "rets_df = pd.DataFrame([market_prior, ret_bl, pd.Series(viewdict)], \n",
    "             index=[\"Prior\", \"Posterior\", \"Views\"]).T\n",
    "\n",
    "rets_df"
   ]
  },
  {
   "cell_type": "code",
   "execution_count": 20,
   "metadata": {},
   "outputs": [
    {
     "data": {
      "image/png": "[encoded data removed]",
      "text/plain": [
       "<Figure size 864x576 with 1 Axes>"
      ]
     },
     "metadata": {
      "needs_background": "light"
     },
     "output_type": "display_data"
    }
   ],
   "source": [
    "rets_df.plot.bar(figsize=(12,8));"
   ]
  },
  {
   "cell_type": "markdown",
   "metadata": {},
   "source": [
    "Notice that the posterior is often between the prior and the views. This supports the fact that the BL method is essentially a Bayesian weighted-average of the prior and views, where the weight is determined by the confidence.\n",
    "\n",
    "A similar but less intuitive procedure can be used to produce the posterior covariance estimate:"
   ]
  },
  {
   "cell_type": "code",
   "execution_count": 21,
   "metadata": {},
   "outputs": [
    {
     "data": {
      "image/png": "[encoded data removed]",
      "text/plain": [
       "<Figure size 432x288 with 2 Axes>"
      ]
     },
     "metadata": {
      "needs_background": "light"
     },
     "output_type": "display_data"
    }
   ],
   "source": [
    "S_bl = bl.bl_cov()\n",
    "plotting.plot_covariance(S_bl);"
   ]
  },
  {
   "cell_type": "markdown",
   "metadata": {},
   "source": [
    "## Portfolio allocation\n",
    "\n",
    "Now that we have constructed our Black-Litterman posterior estimate, we can proceed to use any of the optimizers discussed in previous recipes."
   ]
  },
  {
   "cell_type": "code",
   "execution_count": 22,
   "metadata": {},
   "outputs": [],
   "source": [
    "# from pypfopt import EfficientFrontier, objective_functions"
   ]
  },
  {
   "cell_type": "code",
   "execution_count": 23,
   "metadata": {},
   "outputs": [
    {
     "name": "stderr",
     "output_type": "stream",
     "text": [
      "/opt/anaconda3/lib/python3.8/site-packages/pypfopt/efficient_frontier/efficient_frontier.py:252: UserWarning: max_sharpe transforms the optimization problem so additional objectives may not work as expected.\n",
      "  warnings.warn(\n"
     ]
    },
    {
     "data": {
      "text/plain": [
       "OrderedDict([('004342', 0.0),\n",
       "             ('163406', 0.0794),\n",
       "             ('001714', 0.07933),\n",
       "             ('003095', 0.11336),\n",
       "             ('003096', 0.21179),\n",
       "             ('161725', 0.16856),\n",
       "             ('502056', 0.08944),\n",
       "             ('005918', 0.0962),\n",
       "             ('002963', 0.08481),\n",
       "             ('213009', 0.02597),\n",
       "             ('004972', 0.05113)])"
      ]
     },
     "execution_count": 23,
     "metadata": {},
     "output_type": "execute_result"
    }
   ],
   "source": [
    "ef = pypfopt.EfficientFrontier(ret_bl, S_bl)\n",
    "ef.add_objective(pypfopt.objective_functions.L2_reg)\n",
    "ef.max_sharpe()\n",
    "weights = ef.clean_weights()\n",
    "weights"
   ]
  },
  {
   "cell_type": "code",
   "execution_count": 24,
   "metadata": {},
   "outputs": [
    {
     "name": "stderr",
     "output_type": "stream",
     "text": [
      "/opt/anaconda3/lib/python3.8/site-packages/pandas/plotting/_matplotlib/core.py:1616: MatplotlibDeprecationWarning: normalize=None does not normalize if the sum is less than 1 but this behavior is deprecated since 3.3 until two minor releases later. After the deprecation period the default value will be normalize=True. To prevent normalization pass normalize=False \n",
      "  results = ax.pie(y, labels=blabels, **kwds)\n"
     ]
    },
    {
     "data": {
      "image/png": "[encoded data removed]",
      "text/plain": [
       "<Figure size 720x720 with 1 Axes>"
      ]
     },
     "metadata": {},
     "output_type": "display_data"
    }
   ],
   "source": [
    "pd.Series(weights).plot.pie(figsize=(10,10));"
   ]
  },
  {
   "cell_type": "code",
   "execution_count": 25,
   "metadata": {},
   "outputs": [
    {
     "name": "stdout",
     "output_type": "stream",
     "text": [
      "Leftover: ￥0.48\n"
     ]
    },
    {
     "data": {
      "text/plain": [
       "{'163406': 2997,\n",
       " '001714': 6062,\n",
       " '003095': 8536,\n",
       " '003096': 16151,\n",
       " '161725': 16504,\n",
       " '502056': 17021,\n",
       " '005918': 20157,\n",
       " '002963': 19785,\n",
       " '213009': 13426,\n",
       " '004972': 23476}"
      ]
     },
     "execution_count": 25,
     "metadata": {},
     "output_type": "execute_result"
    }
   ],
   "source": [
    "# get latest prices of assets, if it's not trading day, then try previous value until not \"NaN\"\n",
    "i = 1\n",
    "while fund_em_info_df.iloc[-i].isnull().values.any():\n",
    "    i += 1\n",
    "else:\n",
    "    latest_prices = fund_em_info_df.iloc[-i]\n",
    "\n",
    "# allocate the portfolio based on max-sharpe results to reflect units per assets\n",
    "da = pypfopt.DiscreteAllocation(weights, latest_prices, total_portfolio_value=300000)\n",
    "alloc, leftover = da.lp_portfolio()\n",
    "print(f\"Leftover: ￥{leftover:.2f}\")\n",
    "alloc"
   ]
  },
  {
   "cell_type": "code",
   "execution_count": 26,
   "metadata": {},
   "outputs": [
    {
     "name": "stdout",
     "output_type": "stream",
     "text": [
      "004342 0.0\n",
      "163406 23820.0\n",
      "001714 23799.0\n",
      "003095 34008.0\n",
      "003096 63537.0\n",
      "161725 50567.99999999999\n",
      "502056 26832.0\n",
      "005918 28859.999999999996\n",
      "002963 25443.0\n",
      "213009 7791.0\n",
      "004972 15339.0\n"
     ]
    }
   ],
   "source": [
    "total_portfolio_value = 300000\n",
    "\n",
    "for asset, pct in weights.items():\n",
    "    print(asset, pct * total_portfolio_value)"
   ]
  },
  {
   "cell_type": "code",
   "execution_count": null,
   "metadata": {},
   "outputs": [],
   "source": []
  },
  {
   "cell_type": "code",
   "execution_count": null,
   "metadata": {},
   "outputs": [],
   "source": []
  },
  {
   "cell_type": "code",
   "execution_count": null,
   "metadata": {},
   "outputs": [],
   "source": []
  }
 ],
 "metadata": {
  "kernelspec": {
   "display_name": "Python 3",
   "language": "python",
   "name": "python3"
  },
  "language_info": {
   "codemirror_mode": {
    "name": "ipython",
    "version": 3
   },
   "file_extension": ".py",
   "mimetype": "text/x-python",
   "name": "python",
   "nbconvert_exporter": "python",
   "pygments_lexer": "ipython3",
   "version": "3.8.10"
  }
 },
 "nbformat": 4,
 "nbformat_minor": 4
}
