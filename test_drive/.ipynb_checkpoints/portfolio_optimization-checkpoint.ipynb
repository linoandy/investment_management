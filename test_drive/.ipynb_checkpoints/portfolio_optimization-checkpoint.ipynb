{
 "cells": [
  {
   "cell_type": "code",
   "execution_count": 1,
   "metadata": {},
   "outputs": [],
   "source": [
    "%load_ext autoreload\n",
    "%autoreload 2\n",
    "%matplotlib inline\n",
    "\n",
    "# https://www.akshare.xyz/zh_CN/latest/introduction.html\n",
    "import akshare as ak\n",
    "import json\n",
    "import pandas as pd\n",
    "import numpy as np\n",
    "import rui_risk_kit as rrk\n",
    "import fastquotes\n",
    "import matplotlib.pyplot as plt\n",
    "from pypfopt import black_litterman, risk_models\n",
    "from pypfopt import BlackLittermanModel, plotting"
   ]
  },
  {
   "cell_type": "markdown",
   "metadata": {},
   "source": [
    "## Preparing Data"
   ]
  },
  {
   "cell_type": "code",
   "execution_count": 2,
   "metadata": {},
   "outputs": [],
   "source": [
    "with open('assets.json','r') as myfile:\n",
    "    data=myfile.read()\n",
    "\n",
    "assets = json.loads(data)\n",
    "\n",
    "# 构建开放式基金以及货币基金的列表\n",
    "open_mutual_fund_list = []\n",
    "currency_mutual_fund_list = []\n",
    "\n",
    "# 将开放式基金以及货币基金合并成一个dict\n",
    "portfolio = {**assets['open_fund_in_porfolio'], **assets['currency_fund_in_portfolio']}\n",
    "\n",
    "for open_fund in assets['open_fund_in_porfolio']:\n",
    "    open_mutual_fund_list.append(open_fund)\n",
    "\n",
    "for currency_fund in assets['currency_fund_in_portfolio']:\n",
    "    currency_mutual_fund_list.append(currency_fund)"
   ]
  },
  {
   "cell_type": "code",
   "execution_count": 3,
   "metadata": {},
   "outputs": [
    {
     "data": {
      "text/html": [
       "<div>\n",
       "<style scoped>\n",
       "    .dataframe tbody tr th:only-of-type {\n",
       "        vertical-align: middle;\n",
       "    }\n",
       "\n",
       "    .dataframe tbody tr th {\n",
       "        vertical-align: top;\n",
       "    }\n",
       "\n",
       "    .dataframe thead th {\n",
       "        text-align: right;\n",
       "    }\n",
       "</style>\n",
       "<table border=\"1\" class=\"dataframe\">\n",
       "  <thead>\n",
       "    <tr style=\"text-align: right;\">\n",
       "      <th></th>\n",
       "      <th>004342</th>\n",
       "      <th>163406</th>\n",
       "      <th>001714</th>\n",
       "      <th>003095</th>\n",
       "      <th>003096</th>\n",
       "      <th>161725</th>\n",
       "      <th>502056</th>\n",
       "      <th>005918</th>\n",
       "      <th>002963</th>\n",
       "      <th>213009</th>\n",
       "      <th>004972</th>\n",
       "    </tr>\n",
       "    <tr>\n",
       "      <th>净值日期</th>\n",
       "      <th></th>\n",
       "      <th></th>\n",
       "      <th></th>\n",
       "      <th></th>\n",
       "      <th></th>\n",
       "      <th></th>\n",
       "      <th></th>\n",
       "      <th></th>\n",
       "      <th></th>\n",
       "      <th></th>\n",
       "      <th></th>\n",
       "    </tr>\n",
       "  </thead>\n",
       "  <tbody>\n",
       "    <tr>\n",
       "      <th>2021-07-09</th>\n",
       "      <td>2.2173</td>\n",
       "      <td>7.9087</td>\n",
       "      <td>3.832</td>\n",
       "      <td>3.980</td>\n",
       "      <td>3.931</td>\n",
       "      <td>3.0324</td>\n",
       "      <td>1.6083</td>\n",
       "      <td>1.4213</td>\n",
       "      <td>1.2877</td>\n",
       "      <td>0.5618</td>\n",
       "      <td>0.6639</td>\n",
       "    </tr>\n",
       "    <tr>\n",
       "      <th>2021-07-10</th>\n",
       "      <td>2.2173</td>\n",
       "      <td>7.9087</td>\n",
       "      <td>3.832</td>\n",
       "      <td>3.980</td>\n",
       "      <td>3.931</td>\n",
       "      <td>3.0324</td>\n",
       "      <td>1.6083</td>\n",
       "      <td>1.4213</td>\n",
       "      <td>1.2877</td>\n",
       "      <td>0.5618</td>\n",
       "      <td>0.6629</td>\n",
       "    </tr>\n",
       "    <tr>\n",
       "      <th>2021-07-11</th>\n",
       "      <td>2.2173</td>\n",
       "      <td>7.9087</td>\n",
       "      <td>3.832</td>\n",
       "      <td>3.980</td>\n",
       "      <td>3.931</td>\n",
       "      <td>3.0324</td>\n",
       "      <td>1.6083</td>\n",
       "      <td>1.4213</td>\n",
       "      <td>1.2877</td>\n",
       "      <td>1.0528</td>\n",
       "      <td>0.6629</td>\n",
       "    </tr>\n",
       "    <tr>\n",
       "      <th>2021-07-12</th>\n",
       "      <td>2.2421</td>\n",
       "      <td>8.0190</td>\n",
       "      <td>3.923</td>\n",
       "      <td>4.137</td>\n",
       "      <td>4.086</td>\n",
       "      <td>3.0441</td>\n",
       "      <td>1.6510</td>\n",
       "      <td>1.4384</td>\n",
       "      <td>1.2841</td>\n",
       "      <td>0.5848</td>\n",
       "      <td>0.7666</td>\n",
       "    </tr>\n",
       "    <tr>\n",
       "      <th>2021-07-13</th>\n",
       "      <td>2.2421</td>\n",
       "      <td>8.0791</td>\n",
       "      <td>3.923</td>\n",
       "      <td>4.137</td>\n",
       "      <td>4.086</td>\n",
       "      <td>3.0441</td>\n",
       "      <td>1.6510</td>\n",
       "      <td>1.4384</td>\n",
       "      <td>1.2841</td>\n",
       "      <td>0.5312</td>\n",
       "      <td>0.6518</td>\n",
       "    </tr>\n",
       "  </tbody>\n",
       "</table>\n",
       "</div>"
      ],
      "text/plain": [
       "            004342  163406  001714  003095  003096  161725  502056  005918  \\\n",
       "净值日期                                                                         \n",
       "2021-07-09  2.2173  7.9087   3.832   3.980   3.931  3.0324  1.6083  1.4213   \n",
       "2021-07-10  2.2173  7.9087   3.832   3.980   3.931  3.0324  1.6083  1.4213   \n",
       "2021-07-11  2.2173  7.9087   3.832   3.980   3.931  3.0324  1.6083  1.4213   \n",
       "2021-07-12  2.2421  8.0190   3.923   4.137   4.086  3.0441  1.6510  1.4384   \n",
       "2021-07-13  2.2421  8.0791   3.923   4.137   4.086  3.0441  1.6510  1.4384   \n",
       "\n",
       "            002963  213009  004972  \n",
       "净值日期                                \n",
       "2021-07-09  1.2877  0.5618  0.6639  \n",
       "2021-07-10  1.2877  0.5618  0.6629  \n",
       "2021-07-11  1.2877  1.0528  0.6629  \n",
       "2021-07-12  1.2841  0.5848  0.7666  \n",
       "2021-07-13  1.2841  0.5312  0.6518  "
      ]
     },
     "execution_count": 3,
     "metadata": {},
     "output_type": "execute_result"
    }
   ],
   "source": [
    "currency_fund_info_df = rrk.get_currency_fund_values(currency_mutual_fund_list)\n",
    "fund_em_info_df = rrk.get_mf_values(open_mutual_fund_list, indicator='累计净值走势')\n",
    "\n",
    "# concatenate DataFrame(currency_fund_info_df) to Dataframe(fund_em_info_df)\n",
    "fund_em_info_df = pd.concat([fund_em_info_df, currency_fund_info_df], axis=1)\n",
    "portfolio_fund_list = open_mutual_fund_list + currency_mutual_fund_list\n",
    "\n",
    "# replace NA with value from previous trading day\n",
    "fund_em_info_df.fillna(method ='ffill', inplace = True)\n",
    "fund_em_info_df.tail()"
   ]
  },
  {
   "cell_type": "code",
   "execution_count": 4,
   "metadata": {},
   "outputs": [
    {
     "data": {
      "text/plain": [
       "{'004342': 66000000.0,\n",
       " '163406': 26950000000.0,\n",
       " '001714': 14803000000.0,\n",
       " '003095': 19506000000.0,\n",
       " '003096': 20480000000.0,\n",
       " '161725': 49914000000.0,\n",
       " '502056': 279000000.0,\n",
       " '005918': 3744000000.0,\n",
       " '002963': 2888000000.0,\n",
       " '213009': 11915000000.0,\n",
       " '004972': 13032000000.0}"
      ]
     },
     "execution_count": 4,
     "metadata": {},
     "output_type": "execute_result"
    }
   ],
   "source": [
    "# 获取基金规模，代表基金的市值，该数据每季度更新一次\n",
    "mcaps = {}\n",
    "for fund in portfolio_fund_list:\n",
    "    mcaps[fund] = fastquotes.fund.daily.fund_size(fund) * 100000000\n",
    "mcaps"
   ]
  },
  {
   "cell_type": "code",
   "execution_count": 5,
   "metadata": {},
   "outputs": [
    {
     "name": "stderr",
     "output_type": "stream",
     "text": [
      "100%|██████████| 17/17 [00:12<00:00,  1.33it/s]\n"
     ]
    },
    {
     "data": {
      "text/html": [
       "<div>\n",
       "<style scoped>\n",
       "    .dataframe tbody tr th:only-of-type {\n",
       "        vertical-align: middle;\n",
       "    }\n",
       "\n",
       "    .dataframe tbody tr th {\n",
       "        vertical-align: top;\n",
       "    }\n",
       "\n",
       "    .dataframe thead th {\n",
       "        text-align: right;\n",
       "    }\n",
       "</style>\n",
       "<table border=\"1\" class=\"dataframe\">\n",
       "  <thead>\n",
       "    <tr style=\"text-align: right;\">\n",
       "      <th></th>\n",
       "      <th>close</th>\n",
       "    </tr>\n",
       "    <tr>\n",
       "      <th>date</th>\n",
       "      <th></th>\n",
       "    </tr>\n",
       "  </thead>\n",
       "  <tbody>\n",
       "    <tr>\n",
       "      <th>2021-07-07</th>\n",
       "      <td>5140.49</td>\n",
       "    </tr>\n",
       "    <tr>\n",
       "      <th>2021-07-08</th>\n",
       "      <td>5088.26</td>\n",
       "    </tr>\n",
       "    <tr>\n",
       "      <th>2021-07-09</th>\n",
       "      <td>5069.44</td>\n",
       "    </tr>\n",
       "    <tr>\n",
       "      <th>2021-07-12</th>\n",
       "      <td>5132.71</td>\n",
       "    </tr>\n",
       "    <tr>\n",
       "      <th>2021-07-13</th>\n",
       "      <td>5142.10</td>\n",
       "    </tr>\n",
       "  </tbody>\n",
       "</table>\n",
       "</div>"
      ],
      "text/plain": [
       "              close\n",
       "date               \n",
       "2021-07-07  5140.49\n",
       "2021-07-08  5088.26\n",
       "2021-07-09  5069.44\n",
       "2021-07-12  5132.71\n",
       "2021-07-13  5142.10"
      ]
     },
     "execution_count": 5,
     "metadata": {},
     "output_type": "execute_result"
    }
   ],
   "source": [
    "market_prices = ak.stock_zh_index_daily_tx(symbol=\"sh000300\")\n",
    "market_prices = market_prices.drop(market_prices.columns[[0, -1, -2, -3]], axis = 1)\n",
    "market_prices.tail()"
   ]
  },
  {
   "cell_type": "markdown",
   "metadata": {},
   "source": [
    "## Constructing the prior"
   ]
  },
  {
   "cell_type": "code",
   "execution_count": 6,
   "metadata": {},
   "outputs": [],
   "source": [
    "S = risk_models.CovarianceShrinkage(fund_em_info_df.dropna()).ledoit_wolf()\n",
    "delta = black_litterman.market_implied_risk_aversion(market_prices)\n",
    "\n",
    "# NEEDS RESEARCH. Extract value from a pandas.core.series.Series\n",
    "delta = list(delta)[0]"
   ]
  },
  {
   "cell_type": "code",
   "execution_count": 7,
   "metadata": {},
   "outputs": [
    {
     "data": {
      "image/png": "[encoded data removed]",
      "text/plain": [
       "<Figure size 432x288 with 2 Axes>"
      ]
     },
     "metadata": {
      "needs_background": "light"
     },
     "output_type": "display_data"
    }
   ],
   "source": [
    "plotting.plot_covariance(S, plot_correlation=True);"
   ]
  },
  {
   "cell_type": "code",
   "execution_count": 8,
   "metadata": {},
   "outputs": [
    {
     "data": {
      "text/plain": [
       "004342     0.047275\n",
       "163406     0.279834\n",
       "001714     0.174149\n",
       "003095     0.236446\n",
       "003096     0.244731\n",
       "161725     0.471644\n",
       "502056     0.064303\n",
       "005918     0.080806\n",
       "002963     0.044967\n",
       "213009    16.706530\n",
       "004972     3.032836\n",
       "dtype: float64"
      ]
     },
     "execution_count": 8,
     "metadata": {},
     "output_type": "execute_result"
    }
   ],
   "source": [
    "market_prior = black_litterman.market_implied_prior_returns(mcaps, delta, S, risk_free_rate=0.023)\n",
    "market_prior"
   ]
  },
  {
   "cell_type": "code",
   "execution_count": 9,
   "metadata": {},
   "outputs": [
    {
     "data": {
      "image/png": "[encoded data removed]",
      "text/plain": [
       "<Figure size 720x360 with 1 Axes>"
      ]
     },
     "metadata": {
      "needs_background": "light"
     },
     "output_type": "display_data"
    }
   ],
   "source": [
    "market_prior.plot.barh(figsize=(10,5));"
   ]
  },
  {
   "cell_type": "markdown",
   "metadata": {},
   "source": [
    "## Views\n",
    "\n",
    "In the BL method, views are specified via the matrix P (picking matrix) and the vector Q. Q contains the magnitude of each view, while P maps the views to the assets they belong to. \n",
    "\n",
    "If you are providing **absolute views** (i.e a return estimate for each asset), you don't have to worry about P and Q, you can just pass your views as a dictionary."
   ]
  },
  {
   "cell_type": "code",
   "execution_count": 10,
   "metadata": {},
   "outputs": [],
   "source": [
    "# You don't have to provide views on all the assets\n",
    "# viewdict = {\n",
    "#     \"AMZN\": 0.10,\n",
    "#     \"BAC\": 0.30,\n",
    "#     \"COST\": 0.05,\n",
    "#     \"DIS\": 0.05,\n",
    "#     \"DPZ\": 0.20,\n",
    "#     \"KO\": -0.05,  # I think Coca-Cola will go down 5%\n",
    "#     \"MCD\": 0.15,\n",
    "#     \"MSFT\": 0.10,\n",
    "#     \"NAT\": 0.50,  # but low confidence, which will be reflected later\n",
    "#     \"SBUX\": 0.10\n",
    "# }\n",
    "\n",
    "viewdict = {\n",
    "    \"001714\": 0.10,\n",
    "    \"002963\": 0.30,\n",
    "    \"003095\": 0.05,\n",
    "    \"003096\": 0.20,\n",
    "    \"004342\": -0.05,\n",
    "    \"004972\": 0.15,\n",
    "    \"005918\": 0.10,\n",
    "    \"161725\": 0.12,\n",
    "    \"163406\": 0.13,\n",
    "    \"213009\": 0.14,\n",
    "    \"502056\": 0.10\n",
    "}\n",
    "\n",
    "bl = BlackLittermanModel(S, pi=market_prior, absolute_views=viewdict)"
   ]
  },
  {
   "cell_type": "markdown",
   "metadata": {},
   "source": [
    "Black-Litterman also allows for relative views, e.g you think asset A will outperform asset B by 10%. If you'd like to incorporate these, you will have to build P and Q yourself. An explanation for this is given in the [docs](https://pyportfolioopt.readthedocs.io/en/latest/BlackLitterman.html#views)."
   ]
  },
  {
   "cell_type": "markdown",
   "metadata": {},
   "source": [
    "## View confidences\n",
    "\n",
    "In this section, we provide two ways that you may wish to construct the uncertainty matrix. The first is known as Idzorek's method. It allows you to specify a vector/list of percentage confidences."
   ]
  },
  {
   "cell_type": "code",
   "execution_count": 11,
   "metadata": {},
   "outputs": [],
   "source": [
    "confidences = [\n",
    "    0.6,\n",
    "    0.4,\n",
    "    0.2,\n",
    "    0.5,\n",
    "    0.7, # confident in dominos\n",
    "    0.7, # confident KO will do poorly\n",
    "    0.7, \n",
    "    0.5,\n",
    "    0.1,\n",
    "    0.4,\n",
    "    0.2\n",
    "]"
   ]
  },
  {
   "cell_type": "code",
   "execution_count": 12,
   "metadata": {},
   "outputs": [],
   "source": [
    "bl = BlackLittermanModel(S, pi=market_prior, absolute_views=viewdict, omega=\"idzorek\", view_confidences=confidences)"
   ]
  },
  {
   "cell_type": "code",
   "execution_count": 13,
   "metadata": {},
   "outputs": [
    {
     "data": {
      "image/png": "[encoded data removed]",
      "text/plain": [
       "<Figure size 504x504 with 1 Axes>"
      ]
     },
     "metadata": {
      "needs_background": "light"
     },
     "output_type": "display_data"
    }
   ],
   "source": [
    "fig, ax = plt.subplots(figsize=(7,7))\n",
    "im = ax.imshow(bl.omega)\n",
    "\n",
    "# We want to show all ticks...\n",
    "ax.set_xticks(np.arange(len(bl.tickers)))\n",
    "ax.set_yticks(np.arange(len(bl.tickers)))\n",
    "\n",
    "ax.set_xticklabels(bl.tickers)\n",
    "ax.set_yticklabels(bl.tickers)\n",
    "plt.show()"
   ]
  },
  {
   "cell_type": "code",
   "execution_count": 14,
   "metadata": {},
   "outputs": [
    {
     "data": {
      "text/plain": [
       "array([0.02895562, 0.0634997 , 0.17912409, 0.04477653, 0.01837576,\n",
       "       0.40322911, 0.01846814, 0.04296886, 0.39037816, 9.96721521,\n",
       "       0.17618117])"
      ]
     },
     "execution_count": 14,
     "metadata": {},
     "output_type": "execute_result"
    }
   ],
   "source": [
    "np.diag(bl.omega)"
   ]
  },
  {
   "cell_type": "markdown",
   "metadata": {},
   "source": [
    "Note how NAT, which we gave the lowest confidence, also has the highest uncertainty.\n",
    "\n",
    "Instead of inputting confidences, we can calculate the uncertainty matrix directly by specifying 1 standard deviation confidence intervals, i.e bounds which we think will contain the true return 68% of the time. This may be easier than coming up with somewhat arbitrary percentage confidences"
   ]
  },
  {
   "cell_type": "code",
   "execution_count": 15,
   "metadata": {},
   "outputs": [],
   "source": [
    "intervals = [\n",
    "    (0, 0.5),\n",
    "    (0.1, 0.4),\n",
    "    (-0.1, 0.15),\n",
    "    (-0.05, 0.1),\n",
    "    (0.15, 0.25),\n",
    "    (-0.1, 0),\n",
    "    (0.1, 0.2),\n",
    "    (0.08, 0.12),\n",
    "    (0.1, 0.9),\n",
    "    (0, 0.3),\n",
    "    (0, 0.3)\n",
    "]"
   ]
  },
  {
   "cell_type": "code",
   "execution_count": 16,
   "metadata": {},
   "outputs": [
    {
     "name": "stdout",
     "output_type": "stream",
     "text": [
      "[0.0625, 0.022500000000000006, 0.015625, 0.0056250000000000015, 0.0025000000000000005, 0.0025000000000000005, 0.0025000000000000005, 0.00039999999999999986, 0.16000000000000003, 0.0225, 0.0225]\n"
     ]
    }
   ],
   "source": [
    "variances = []\n",
    "for lb, ub in intervals:\n",
    "    sigma = (ub - lb)/2\n",
    "    variances.append(sigma ** 2)\n",
    "\n",
    "print(variances)\n",
    "omega = np.diag(variances)"
   ]
  },
  {
   "cell_type": "markdown",
   "metadata": {},
   "source": [
    "## Posterior estimates\n",
    "\n",
    "Given the inputs, we can compute a posterior estimate of returns\n"
   ]
  },
  {
   "cell_type": "code",
   "execution_count": 17,
   "metadata": {},
   "outputs": [],
   "source": [
    "# We are using the shortcut to automatically compute market-implied prior\n",
    "bl = BlackLittermanModel(S, pi=\"market\", market_caps=mcaps, risk_aversion=delta,\n",
    "                        absolute_views=viewdict, omega=omega)"
   ]
  },
  {
   "cell_type": "code",
   "execution_count": 18,
   "metadata": {},
   "outputs": [
    {
     "data": {
      "text/plain": [
       "004342   -0.046070\n",
       "163406    0.228320\n",
       "001714    0.130384\n",
       "003095    0.090874\n",
       "003096    0.200999\n",
       "161725    0.123056\n",
       "502056    0.076311\n",
       "005918    0.097327\n",
       "002963    0.204769\n",
       "213009    0.193905\n",
       "004972    0.156161\n",
       "dtype: float64"
      ]
     },
     "execution_count": 18,
     "metadata": {},
     "output_type": "execute_result"
    }
   ],
   "source": [
    "# Posterior estimate of returns\n",
    "ret_bl = bl.bl_returns()\n",
    "ret_bl"
   ]
  },
  {
   "cell_type": "markdown",
   "metadata": {},
   "source": [
    "We can visualise how this compares to the prior and our views:"
   ]
  },
  {
   "cell_type": "code",
   "execution_count": 19,
   "metadata": {},
   "outputs": [
    {
     "data": {
      "text/html": [
       "<div>\n",
       "<style scoped>\n",
       "    .dataframe tbody tr th:only-of-type {\n",
       "        vertical-align: middle;\n",
       "    }\n",
       "\n",
       "    .dataframe tbody tr th {\n",
       "        vertical-align: top;\n",
       "    }\n",
       "\n",
       "    .dataframe thead th {\n",
       "        text-align: right;\n",
       "    }\n",
       "</style>\n",
       "<table border=\"1\" class=\"dataframe\">\n",
       "  <thead>\n",
       "    <tr style=\"text-align: right;\">\n",
       "      <th></th>\n",
       "      <th>Prior</th>\n",
       "      <th>Posterior</th>\n",
       "      <th>Views</th>\n",
       "    </tr>\n",
       "  </thead>\n",
       "  <tbody>\n",
       "    <tr>\n",
       "      <th>004342</th>\n",
       "      <td>0.047275</td>\n",
       "      <td>-0.046070</td>\n",
       "      <td>-0.05</td>\n",
       "    </tr>\n",
       "    <tr>\n",
       "      <th>163406</th>\n",
       "      <td>0.279834</td>\n",
       "      <td>0.228320</td>\n",
       "      <td>0.13</td>\n",
       "    </tr>\n",
       "    <tr>\n",
       "      <th>001714</th>\n",
       "      <td>0.174149</td>\n",
       "      <td>0.130384</td>\n",
       "      <td>0.10</td>\n",
       "    </tr>\n",
       "    <tr>\n",
       "      <th>003095</th>\n",
       "      <td>0.236446</td>\n",
       "      <td>0.090874</td>\n",
       "      <td>0.05</td>\n",
       "    </tr>\n",
       "    <tr>\n",
       "      <th>003096</th>\n",
       "      <td>0.244731</td>\n",
       "      <td>0.200999</td>\n",
       "      <td>0.20</td>\n",
       "    </tr>\n",
       "    <tr>\n",
       "      <th>161725</th>\n",
       "      <td>0.471644</td>\n",
       "      <td>0.123056</td>\n",
       "      <td>0.12</td>\n",
       "    </tr>\n",
       "    <tr>\n",
       "      <th>502056</th>\n",
       "      <td>0.064303</td>\n",
       "      <td>0.076311</td>\n",
       "      <td>0.10</td>\n",
       "    </tr>\n",
       "    <tr>\n",
       "      <th>005918</th>\n",
       "      <td>0.080806</td>\n",
       "      <td>0.097327</td>\n",
       "      <td>0.10</td>\n",
       "    </tr>\n",
       "    <tr>\n",
       "      <th>002963</th>\n",
       "      <td>0.044967</td>\n",
       "      <td>0.204769</td>\n",
       "      <td>0.30</td>\n",
       "    </tr>\n",
       "    <tr>\n",
       "      <th>213009</th>\n",
       "      <td>16.706530</td>\n",
       "      <td>0.193905</td>\n",
       "      <td>0.14</td>\n",
       "    </tr>\n",
       "    <tr>\n",
       "      <th>004972</th>\n",
       "      <td>3.032836</td>\n",
       "      <td>0.156161</td>\n",
       "      <td>0.15</td>\n",
       "    </tr>\n",
       "  </tbody>\n",
       "</table>\n",
       "</div>"
      ],
      "text/plain": [
       "            Prior  Posterior  Views\n",
       "004342   0.047275  -0.046070  -0.05\n",
       "163406   0.279834   0.228320   0.13\n",
       "001714   0.174149   0.130384   0.10\n",
       "003095   0.236446   0.090874   0.05\n",
       "003096   0.244731   0.200999   0.20\n",
       "161725   0.471644   0.123056   0.12\n",
       "502056   0.064303   0.076311   0.10\n",
       "005918   0.080806   0.097327   0.10\n",
       "002963   0.044967   0.204769   0.30\n",
       "213009  16.706530   0.193905   0.14\n",
       "004972   3.032836   0.156161   0.15"
      ]
     },
     "execution_count": 19,
     "metadata": {},
     "output_type": "execute_result"
    }
   ],
   "source": [
    "rets_df = pd.DataFrame([market_prior, ret_bl, pd.Series(viewdict)], \n",
    "             index=[\"Prior\", \"Posterior\", \"Views\"]).T\n",
    "\n",
    "rets_df"
   ]
  },
  {
   "cell_type": "code",
   "execution_count": 20,
   "metadata": {},
   "outputs": [
    {
     "data": {
      "image/png": "[encoded data removed]",
      "text/plain": [
       "<Figure size 864x576 with 1 Axes>"
      ]
     },
     "metadata": {
      "needs_background": "light"
     },
     "output_type": "display_data"
    }
   ],
   "source": [
    "rets_df.plot.bar(figsize=(12,8));"
   ]
  },
  {
   "cell_type": "markdown",
   "metadata": {},
   "source": [
    "Notice that the posterior is often between the prior and the views. This supports the fact that the BL method is essentially a Bayesian weighted-average of the prior and views, where the weight is determined by the confidence.\n",
    "\n",
    "A similar but less intuitive procedure can be used to produce the posterior covariance estimate:"
   ]
  },
  {
   "cell_type": "code",
   "execution_count": 21,
   "metadata": {},
   "outputs": [
    {
     "data": {
      "image/png": "[encoded data removed]",
      "text/plain": [
       "<Figure size 432x288 with 2 Axes>"
      ]
     },
     "metadata": {
      "needs_background": "light"
     },
     "output_type": "display_data"
    }
   ],
   "source": [
    "S_bl = bl.bl_cov()\n",
    "plotting.plot_covariance(S_bl);"
   ]
  },
  {
   "cell_type": "markdown",
   "metadata": {},
   "source": [
    "## Portfolio allocation\n",
    "\n",
    "Now that we have constructed our Black-Litterman posterior estimate, we can proceed to use any of the optimizers discussed in previous recipes."
   ]
  },
  {
   "cell_type": "code",
   "execution_count": 22,
   "metadata": {},
   "outputs": [],
   "source": [
    "from pypfopt import EfficientFrontier, objective_functions"
   ]
  },
  {
   "cell_type": "code",
   "execution_count": 23,
   "metadata": {},
   "outputs": [
    {
     "name": "stderr",
     "output_type": "stream",
     "text": [
      "/usr/local/opt/anaconda3/lib/python3.8/site-packages/pypfopt/efficient_frontier/efficient_frontier.py:252: UserWarning: max_sharpe transforms the optimization problem so additional objectives may not work as expected.\n",
      "  warnings.warn(\n"
     ]
    },
    {
     "data": {
      "text/plain": [
       "OrderedDict([('004342', 0.0),\n",
       "             ('163406', 0.21178),\n",
       "             ('001714', 0.10691),\n",
       "             ('003095', 0.06014),\n",
       "             ('003096', 0.18076),\n",
       "             ('161725', 0.1039),\n",
       "             ('502056', 0.04636),\n",
       "             ('005918', 0.07404),\n",
       "             ('002963', 0.19934),\n",
       "             ('213009', 0.00234),\n",
       "             ('004972', 0.01444)])"
      ]
     },
     "execution_count": 23,
     "metadata": {},
     "output_type": "execute_result"
    }
   ],
   "source": [
    "ef = EfficientFrontier(ret_bl, S_bl)\n",
    "ef.add_objective(objective_functions.L2_reg)\n",
    "ef.max_sharpe()\n",
    "weights = ef.clean_weights()\n",
    "weights"
   ]
  },
  {
   "cell_type": "code",
   "execution_count": 24,
   "metadata": {},
   "outputs": [
    {
     "data": {
      "image/png": "[encoded data removed]",
      "text/plain": [
       "<Figure size 720x720 with 1 Axes>"
      ]
     },
     "metadata": {},
     "output_type": "display_data"
    }
   ],
   "source": [
    "pd.Series(weights).plot.pie(figsize=(10,10));"
   ]
  },
  {
   "cell_type": "code",
   "execution_count": 25,
   "metadata": {},
   "outputs": [
    {
     "ename": "NameError",
     "evalue": "Solver GLPK_MI is not installed. ",
     "output_type": "error",
     "traceback": [
      "\u001b[0;31m---------------------------------------------------------------------------\u001b[0m",
      "\u001b[0;31mNameError\u001b[0m                                 Traceback (most recent call last)",
      "\u001b[0;32m<ipython-input-25-daeb330de47f>\u001b[0m in \u001b[0;36m<module>\u001b[0;34m\u001b[0m\n\u001b[1;32m      2\u001b[0m \u001b[0;34m\u001b[0m\u001b[0m\n\u001b[1;32m      3\u001b[0m \u001b[0mda\u001b[0m \u001b[0;34m=\u001b[0m \u001b[0mDiscreteAllocation\u001b[0m\u001b[0;34m(\u001b[0m\u001b[0mweights\u001b[0m\u001b[0;34m,\u001b[0m \u001b[0mfund_em_info_df\u001b[0m\u001b[0;34m.\u001b[0m\u001b[0miloc\u001b[0m\u001b[0;34m[\u001b[0m\u001b[0;34m-\u001b[0m\u001b[0;36m2\u001b[0m\u001b[0;34m]\u001b[0m\u001b[0;34m,\u001b[0m \u001b[0mtotal_portfolio_value\u001b[0m\u001b[0;34m=\u001b[0m\u001b[0;36m300000\u001b[0m\u001b[0;34m)\u001b[0m\u001b[0;34m\u001b[0m\u001b[0;34m\u001b[0m\u001b[0m\n\u001b[0;32m----> 4\u001b[0;31m \u001b[0malloc\u001b[0m\u001b[0;34m,\u001b[0m \u001b[0mleftover\u001b[0m \u001b[0;34m=\u001b[0m \u001b[0mda\u001b[0m\u001b[0;34m.\u001b[0m\u001b[0mlp_portfolio\u001b[0m\u001b[0;34m(\u001b[0m\u001b[0;34m)\u001b[0m\u001b[0;34m\u001b[0m\u001b[0;34m\u001b[0m\u001b[0m\n\u001b[0m\u001b[1;32m      5\u001b[0m \u001b[0mprint\u001b[0m\u001b[0;34m(\u001b[0m\u001b[0;34mf\"Leftover: ${leftover:.2f}\"\u001b[0m\u001b[0;34m)\u001b[0m\u001b[0;34m\u001b[0m\u001b[0;34m\u001b[0m\u001b[0m\n\u001b[1;32m      6\u001b[0m \u001b[0malloc\u001b[0m\u001b[0;34m\u001b[0m\u001b[0;34m\u001b[0m\u001b[0m\n",
      "\u001b[0;32m/usr/local/opt/anaconda3/lib/python3.8/site-packages/pypfopt/discrete_allocation.py\u001b[0m in \u001b[0;36mlp_portfolio\u001b[0;34m(self, reinvest, verbose, solver)\u001b[0m\n\u001b[1;32m    322\u001b[0m \u001b[0;34m\u001b[0m\u001b[0m\n\u001b[1;32m    323\u001b[0m         \u001b[0;32mif\u001b[0m \u001b[0msolver\u001b[0m \u001b[0;32mis\u001b[0m \u001b[0;32mnot\u001b[0m \u001b[0;32mNone\u001b[0m \u001b[0;32mand\u001b[0m \u001b[0msolver\u001b[0m \u001b[0;32mnot\u001b[0m \u001b[0;32min\u001b[0m \u001b[0mcp\u001b[0m\u001b[0;34m.\u001b[0m\u001b[0minstalled_solvers\u001b[0m\u001b[0;34m(\u001b[0m\u001b[0;34m)\u001b[0m\u001b[0;34m:\u001b[0m\u001b[0;34m\u001b[0m\u001b[0;34m\u001b[0m\u001b[0m\n\u001b[0;32m--> 324\u001b[0;31m             \u001b[0;32mraise\u001b[0m \u001b[0mNameError\u001b[0m\u001b[0;34m(\u001b[0m\u001b[0;34m\"Solver {} is not installed. \"\u001b[0m\u001b[0;34m.\u001b[0m\u001b[0mformat\u001b[0m\u001b[0;34m(\u001b[0m\u001b[0msolver\u001b[0m\u001b[0;34m)\u001b[0m\u001b[0;34m)\u001b[0m\u001b[0;34m\u001b[0m\u001b[0;34m\u001b[0m\u001b[0m\n\u001b[0m\u001b[1;32m    325\u001b[0m         \u001b[0mopt\u001b[0m\u001b[0;34m.\u001b[0m\u001b[0msolve\u001b[0m\u001b[0;34m(\u001b[0m\u001b[0msolver\u001b[0m\u001b[0;34m=\u001b[0m\u001b[0msolver\u001b[0m\u001b[0;34m)\u001b[0m\u001b[0;34m\u001b[0m\u001b[0;34m\u001b[0m\u001b[0m\n\u001b[1;32m    326\u001b[0m \u001b[0;34m\u001b[0m\u001b[0m\n",
      "\u001b[0;31mNameError\u001b[0m: Solver GLPK_MI is not installed. "
     ]
    }
   ],
   "source": [
    "from pypfopt import DiscreteAllocation\n",
    "\n",
    "da = DiscreteAllocation(weights, fund_em_info_df.iloc[-2], total_portfolio_value=300000)\n",
    "alloc, leftover = da.lp_portfolio()\n",
    "print(f\"Leftover: ${leftover:.2f}\")\n",
    "alloc"
   ]
  },
  {
   "cell_type": "code",
   "execution_count": 27,
   "metadata": {},
   "outputs": [
    {
     "name": "stdout",
     "output_type": "stream",
     "text": [
      "004342 0.0\n",
      "163406 63534.0\n",
      "001714 32073.0\n",
      "003095 18042.0\n",
      "003096 54228.0\n",
      "161725 31170.000000000004\n",
      "502056 13908.0\n",
      "005918 22212.0\n",
      "002963 59802.0\n",
      "213009 702.0\n",
      "004972 4332.0\n"
     ]
    }
   ],
   "source": [
    "total_portfolio_value = 300000\n",
    "\n",
    "for asset, pct in weights.items():\n",
    "    print(asset, pct * total_portfolio_value)"
   ]
  },
  {
   "cell_type": "code",
   "execution_count": null,
   "metadata": {},
   "outputs": [],
   "source": []
  }
 ],
 "metadata": {
  "kernelspec": {
   "display_name": "Python 3",
   "language": "python",
   "name": "python3"
  },
  "language_info": {
   "codemirror_mode": {
    "name": "ipython",
    "version": 3
   },
   "file_extension": ".py",
   "mimetype": "text/x-python",
   "name": "python",
   "nbconvert_exporter": "python",
   "pygments_lexer": "ipython3",
   "version": "3.8.10"
  }
 },
 "nbformat": 4,
 "nbformat_minor": 4
}
